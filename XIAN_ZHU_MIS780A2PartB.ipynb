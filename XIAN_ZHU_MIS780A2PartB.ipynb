{
  "nbformat": 4,
  "nbformat_minor": 0,
  "metadata": {
    "accelerator": "GPU",
    "colab": {
      "name": "XIAN_ZHU_MIS780A2PartB.ipynb",
      "provenance": [],
      "collapsed_sections": [],
      "include_colab_link": true
    },
    "kernelspec": {
      "display_name": "Python 3",
      "language": "python",
      "name": "python3"
    },
    "language_info": {
      "codemirror_mode": {
        "name": "ipython",
        "version": 3
      },
      "file_extension": ".py",
      "mimetype": "text/x-python",
      "name": "python",
      "nbconvert_exporter": "python",
      "pygments_lexer": "ipython3",
      "version": "3.7.1"
    }
  },
  "cells": [
    {
      "cell_type": "markdown",
      "metadata": {
        "id": "view-in-github",
        "colab_type": "text"
      },
      "source": [
        "<a href=\"https://colab.research.google.com/github/xian51/sit742/blob/main/XIAN_ZHU_MIS780A2PartB.ipynb\" target=\"_parent\"><img src=\"https://colab.research.google.com/assets/colab-badge.svg\" alt=\"Open In Colab\"/></a>"
      ]
    },
    {
      "cell_type": "markdown",
      "metadata": {
        "id": "SZwQc8iIYzhL"
      },
      "source": [
        "# MIS780 Advanced AI For Business - Assignment 2 - T2 2021\n",
        "\n",
        "## Part B:  Deep Learning for Image Data"
      ]
    },
    {
      "cell_type": "markdown",
      "metadata": {
        "id": "LocH583hYzhR"
      },
      "source": [
        "**Student Name:** Xian Zhu\n",
        "\n",
        "**Student ID:** 215453182"
      ]
    },
    {
      "cell_type": "code",
      "metadata": {
        "id": "8dCcx2fPl8PO"
      },
      "source": [
        "%%html\n",
        "<style>table {float:left}</style>\n",
        "<style>img {float:left}</style>"
      ],
      "execution_count": null,
      "outputs": []
    },
    {
      "cell_type": "markdown",
      "metadata": {
        "id": "QoBihZe6_Acd"
      },
      "source": [
        "## Table of Content\n",
        "   \n",
        "1. [Notebook Preparation](#cell_Preparation)\n",
        "\n",
        "2. [Data Preprocessing](#cell_Preprocessing)\n",
        "\n",
        "3. [Model Construction](#cell_model)\n",
        "\n",
        "4. [Model Execution](#cell_execution)\n",
        " \n",
        "5. [Experiments Report](#cell_report)\n",
        "\n"
      ]
    },
    {
      "cell_type": "markdown",
      "metadata": {
        "id": "ufoVVdqtYzhU"
      },
      "source": [
        "<a id = \"cell_Preparation\"></a>\n",
        "## 1. Notebook Preparation"
      ]
    },
    {
      "cell_type": "markdown",
      "metadata": {
        "id": "njDKx1_JYzhU"
      },
      "source": [
        "All required Python libraries are loaded."
      ]
    },
    {
      "cell_type": "code",
      "metadata": {
        "id": "BQo3ipOhYzhV"
      },
      "source": [
        "import math\n",
        "import numpy as np\n",
        "import pandas as pd\n",
        "import matplotlib.pyplot as plt"
      ],
      "execution_count": null,
      "outputs": []
    },
    {
      "cell_type": "code",
      "metadata": {
        "colab": {
          "base_uri": "https://localhost:8080/"
        },
        "id": "m7lqsmUDnRBu",
        "outputId": "6af52312-0284-4180-e8d5-34a05bc8592d"
      },
      "source": [
        "import tensorflow as tf\n",
        "tf.config.list_physical_devices('GPU')"
      ],
      "execution_count": null,
      "outputs": [
        {
          "output_type": "execute_result",
          "data": {
            "text/plain": [
              "[PhysicalDevice(name='/physical_device:GPU:0', device_type='GPU')]"
            ]
          },
          "metadata": {},
          "execution_count": 3
        }
      ]
    },
    {
      "cell_type": "code",
      "metadata": {
        "id": "a2dIVbOt1h1H"
      },
      "source": [
        "from tensorflow.keras.utils import to_categorical\n",
        "from tensorflow.keras.layers import Input, Dense, Conv2D, MaxPooling2D,add\n",
        "from tensorflow.keras.layers import UpSampling2D, BatchNormalization, LeakyReLU\n",
        "from tensorflow.keras.layers import Input, Dense, Dropout, Flatten\n",
        "from tensorflow.keras.layers import Conv2DTranspose\n",
        "from tensorflow.keras.models import Model\n",
        "from tensorflow.keras.models import Sequential\n",
        "from tensorflow.keras import layers, losses\n",
        "from tensorflow.keras import regularizers\n",
        "from tensorflow.keras.callbacks import TensorBoard, EarlyStopping, ModelCheckpoint\n",
        "from tensorflow.keras.optimizers import SGD, RMSprop, Adadelta, Adam, Nadam\n",
        "from tensorflow.keras.losses import categorical_crossentropy"
      ],
      "execution_count": null,
      "outputs": []
    },
    {
      "cell_type": "markdown",
      "metadata": {
        "id": "QTiyUCEdnL4a"
      },
      "source": [
        "Common functions are defined."
      ]
    },
    {
      "cell_type": "code",
      "metadata": {
        "id": "rsJQjBzeNezQ"
      },
      "source": [
        "def plot_images(ims, figsize=(12,12), cols=1, interp=False, titles=None):\n",
        "    if type(ims[0]) is np.ndarray:\n",
        "        if (ims.shape[-1] != 3):\n",
        "            ims = ims = ims[:,:,:,0]\n",
        "    f = plt.figure(figsize=figsize)\n",
        "    rows=len(ims)//cols if len(ims) % cols == 0 else len(ims)//cols + 1\n",
        "    for i in range(len(ims)):\n",
        "        sp = f.add_subplot(rows, cols, i+1)\n",
        "        sp.axis('Off')\n",
        "        if titles is not None:\n",
        "            sp.set_title(titles[i], fontsize=16)\n",
        "        plt.imshow(ims[i], interpolation=None if interp else 'none')"
      ],
      "execution_count": null,
      "outputs": []
    },
    {
      "cell_type": "code",
      "metadata": {
        "id": "3MN1MrU0Nh90"
      },
      "source": [
        "def plot_hist(h, xsize=6, ysize=5):\n",
        "    # Prepare plotting\n",
        "    fig_size = plt.rcParams[\"figure.figsize\"]\n",
        "    plt.rcParams[\"figure.figsize\"] = [xsize, ysize]\n",
        "    \n",
        "    # Get training and validation keys\n",
        "    ks = list(h.keys())\n",
        "    n2 = math.floor(len(ks)/2)\n",
        "    train_keys = ks[0:n2]\n",
        "    valid_keys = ks[n2:2*n2]\n",
        "    \n",
        "    # summarize history for different metrics\n",
        "    for i in range(n2):\n",
        "        plt.plot(h[train_keys[i]])\n",
        "        plt.plot(h[valid_keys[i]])\n",
        "        plt.title('Training vs Validation '+train_keys[i])\n",
        "        plt.ylabel(train_keys[i])\n",
        "        plt.xlabel('Epoch')\n",
        "        plt.legend(['Train', 'Validation'], loc='upper left')\n",
        "        plt.draw()\n",
        "        plt.show()\n",
        "    \n",
        "    return"
      ],
      "execution_count": null,
      "outputs": []
    },
    {
      "cell_type": "code",
      "metadata": {
        "id": "5jHyybwIEXl4"
      },
      "source": [
        "def rmse_images(images1, images2):\n",
        "    return math.sqrt(np.square(np.subtract(images1, images2)).mean())\n",
        "\n",
        "def mae_images(images1, images2):\n",
        "    return np.abs(np.subtract(images1, images2)).mean()"
      ],
      "execution_count": null,
      "outputs": []
    },
    {
      "cell_type": "markdown",
      "metadata": {
        "id": "nqPl5gh_YzhX"
      },
      "source": [
        "<a id = \"cell_Preprocessing\"></a>\n",
        "## 2. Data Preprocessing"
      ]
    },
    {
      "cell_type": "code",
      "metadata": {
        "id": "xUrPcLEzYzhY",
        "colab": {
          "base_uri": "https://localhost:8080/"
        },
        "outputId": "21d09002-5f28-4016-8177-26749c59a213"
      },
      "source": [
        "from tensorflow.keras.datasets import cifar10\n",
        "\n",
        "# Data parameters\n",
        "img_rows, img_cols = 32, 32\n",
        "channels = 3\n",
        "\n",
        "\n",
        "# the data, shuffled and split between train and test sets\n",
        "(x_train, _), (x_test, _) = cifar10.load_data()\n",
        "\n",
        "x_train = x_train.astype('float32') / 255.\n",
        "x_test = x_test.astype('float32') / 255."
      ],
      "execution_count": null,
      "outputs": [
        {
          "output_type": "stream",
          "name": "stdout",
          "text": [
            "Downloading data from https://www.cs.toronto.edu/~kriz/cifar-10-python.tar.gz\n",
            "170500096/170498071 [==============================] - 11s 0us/step\n",
            "170508288/170498071 [==============================] - 11s 0us/step\n"
          ]
        }
      ]
    },
    {
      "cell_type": "markdown",
      "metadata": {
        "id": "ixMhKNibHoKr"
      },
      "source": [
        "*Inject noise into all images (both training and testing). with noice factor = 0.3*"
      ]
    },
    {
      "cell_type": "code",
      "metadata": {
        "id": "MTRCHUhoHoTZ"
      },
      "source": [
        "noise_factor = 0.3\n",
        "x_train_noisy = x_train + noise_factor * np.random.normal(loc=0.0, scale=1.0, size=x_train.shape) \n",
        "x_test_noisy = x_test + noise_factor * np.random.normal(loc=0.0, scale=1.0, size=x_test.shape) \n",
        "\n",
        "x_train_noisy = np.clip(x_train_noisy, 0., 1.)\n",
        "x_test_noisy = np.clip(x_test_noisy, 0., 1.)"
      ],
      "execution_count": null,
      "outputs": []
    },
    {
      "cell_type": "markdown",
      "metadata": {
        "id": "XG50G7qKH6yX"
      },
      "source": [
        "Show original images and noisy images."
      ]
    },
    {
      "cell_type": "code",
      "metadata": {
        "colab": {
          "base_uri": "https://localhost:8080/",
          "height": 216
        },
        "id": "y-RolRiC0JzJ",
        "outputId": "9b39a4e6-0bdf-49e9-9134-d1b175a0a47b"
      },
      "source": [
        "idx = 4\n",
        "plt.subplot(1,2,1)\n",
        "plt.imshow(x_train[idx])\n",
        "plt.title('Original image')\n",
        "plt.subplot(1,2,2)\n",
        "plt.imshow(x_train_noisy[idx])\n",
        "plt.title('Image with noise')\n",
        "plt.show()"
      ],
      "execution_count": null,
      "outputs": [
        {
          "output_type": "display_data",
          "data": {
            "image/png": "[encoded data removed]",
            "text/plain": [
              "<Figure size 432x288 with 2 Axes>"
            ]
          },
          "metadata": {
            "needs_background": "light"
          }
        }
      ]
    },
    {
      "cell_type": "markdown",
      "metadata": {
        "id": "lY3RPGcKYzhc"
      },
      "source": [
        "<a id = \"cell_model\"></a>\n",
        "## 3. Model Construction"
      ]
    },
    {
      "cell_type": "markdown",
      "metadata": {
        "id": "CiK8F20YnvY6"
      },
      "source": [
        "Show the shape the image"
      ]
    },
    {
      "cell_type": "code",
      "metadata": {
        "colab": {
          "base_uri": "https://localhost:8080/"
        },
        "id": "Vux7wMNR1LMZ",
        "outputId": "3a4eb6d3-f700-4a31-fef3-4c604de9ece6"
      },
      "source": [
        "img_rows = 32\n",
        "img_cols = 32\n",
        "channels = 3\n",
        "\n",
        "x_train = x_train.reshape(x_train.shape[0], img_rows, img_cols, channels)\n",
        "x_test = x_test.reshape(x_test.shape[0], img_rows, img_cols, channels)\n",
        "input_shape = (img_rows, img_cols, channels)\n",
        "\n",
        "print(x_train.shape)\n",
        "print(x_test.shape)"
      ],
      "execution_count": null,
      "outputs": [
        {
          "output_type": "stream",
          "name": "stdout",
          "text": [
            "(50000, 32, 32, 3)\n",
            "(10000, 32, 32, 3)\n"
          ]
        }
      ]
    },
    {
      "cell_type": "markdown",
      "metadata": {
        "id": "Eahrd0sZg0V2"
      },
      "source": [
        "Model 1: 2 convolutional layers for encoding, 2 convolutional layers for decoding. BatchNormalization is used for each layer, and use leakrelu activation."
      ]
    },
    {
      "cell_type": "code",
      "metadata": {
        "colab": {
          "base_uri": "https://localhost:8080/"
        },
        "id": "EdRHJBraPq-B",
        "outputId": "20e0c7e8-96fe-4904-d523-be61291bc24f"
      },
      "source": [
        "model = Sequential()\n",
        "\n",
        "model.add(Conv2D(32, kernel_size=3, strides=1, padding='same', activation='relu', input_shape=(32, 32, 3)))\n",
        "model.add(BatchNormalization())     # 32x32x32\n",
        "model.add(Conv2D(32, kernel_size=3, strides=2, padding='same', activation='relu'))      # 16x16x32\n",
        "model.add(Conv2D(32, kernel_size=3, strides=1, padding='same', activation='relu'))      # 16x16x32\n",
        "model.add(BatchNormalization())     # 16x16x32\n",
        "model.add(UpSampling2D())\n",
        "model.add(Conv2D(32, kernel_size=3, strides=1, padding='same', activation='relu'))      # 32x32x32\n",
        "model.add(BatchNormalization())\n",
        "model.add(Conv2D(3,  kernel_size=1, strides=1, padding='same', activation='sigmoid'))   # 32x32x3\n",
        "\n",
        "model.summary()"
      ],
      "execution_count": null,
      "outputs": [
        {
          "output_type": "stream",
          "name": "stdout",
          "text": [
            "Model: \"sequential_1\"\n",
            "_________________________________________________________________\n",
            "Layer (type)                 Output Shape              Param #   \n",
            "=================================================================\n",
            "conv2d_5 (Conv2D)            (None, 32, 32, 32)        896       \n",
            "_________________________________________________________________\n",
            "batch_normalization_3 (Batch (None, 32, 32, 32)        128       \n",
            "_________________________________________________________________\n",
            "conv2d_6 (Conv2D)            (None, 16, 16, 32)        9248      \n",
            "_________________________________________________________________\n",
            "conv2d_7 (Conv2D)            (None, 16, 16, 32)        9248      \n",
            "_________________________________________________________________\n",
            "batch_normalization_4 (Batch (None, 16, 16, 32)        128       \n",
            "_________________________________________________________________\n",
            "up_sampling2d_1 (UpSampling2 (None, 32, 32, 32)        0         \n",
            "_________________________________________________________________\n",
            "conv2d_8 (Conv2D)            (None, 32, 32, 32)        9248      \n",
            "_________________________________________________________________\n",
            "batch_normalization_5 (Batch (None, 32, 32, 32)        128       \n",
            "_________________________________________________________________\n",
            "conv2d_9 (Conv2D)            (None, 32, 32, 3)         99        \n",
            "=================================================================\n",
            "Total params: 29,123\n",
            "Trainable params: 28,931\n",
            "Non-trainable params: 192\n",
            "_________________________________________________________________\n"
          ]
        }
      ]
    },
    {
      "cell_type": "markdown",
      "metadata": {
        "id": "XUqGnFM2hS2z"
      },
      "source": [
        "Model 2: 3 convolutional layers with dropout and maxpooling for encoding, 3 convolutional layers with dropout for decoding. BatchNormalization is used for each layer, and use leakrelu activation."
      ]
    },
    {
      "cell_type": "code",
      "metadata": {
        "colab": {
          "base_uri": "https://localhost:8080/"
        },
        "id": "LYdYzQfnVLnW",
        "outputId": "8378d6d4-f6dd-4439-ef62-a2475ce5fdad"
      },
      "source": [
        "# Encoder \n",
        "inputs = Input(shape=(32,32,3))\n",
        "\n",
        "x = Conv2D(32, 3, activation='relu', padding='same')(inputs)\n",
        "x = BatchNormalization()(x)\n",
        "x = MaxPooling2D()(x)\n",
        "x = Dropout(0.5)(x)\n",
        "skip = Conv2D(32, 3, padding='same')(x)\n",
        "x = LeakyReLU()(skip)\n",
        "x = BatchNormalization()(x)\n",
        "x = MaxPooling2D()(x)\n",
        "x = Dropout(0.5)(x)\n",
        "x = Conv2D(64, 3, activation='relu', padding='same')(x)\n",
        "x = BatchNormalization()(x)\n",
        "encoded = MaxPooling2D()(x)\n",
        "\n",
        "# Decoder\n",
        "x = Conv2DTranspose(64, 3,activation='relu',strides=(2,2), padding='same')(encoded)\n",
        "x = BatchNormalization()(x)\n",
        "x = Dropout(0.5)(x)\n",
        "x = Conv2DTranspose(32, 3, activation='relu',strides=(2,2), padding='same')(x)\n",
        "x = BatchNormalization()(x)\n",
        "x = Dropout(0.5)(x)\n",
        "x = Conv2DTranspose(32, 3, padding='same')(x)\n",
        "x = add([x,skip])\n",
        "x = LeakyReLU()(x)\n",
        "x = BatchNormalization()(x)\n",
        "decoded = Conv2DTranspose(3, 3, activation='sigmoid',strides=(2,2), padding='same')(x)\n",
        "\n",
        "autoencoder = Model(inputs, decoded)\n",
        "\n",
        "autoencoder.summary()"
      ],
      "execution_count": null,
      "outputs": [
        {
          "output_type": "stream",
          "name": "stdout",
          "text": [
            "Model: \"model_3\"\n",
            "__________________________________________________________________________________________________\n",
            "Layer (type)                    Output Shape         Param #     Connected to                     \n",
            "==================================================================================================\n",
            "input_8 (InputLayer)            [(None, 32, 32, 3)]  0                                            \n",
            "__________________________________________________________________________________________________\n",
            "conv2d_27 (Conv2D)              (None, 32, 32, 32)   896         input_8[0][0]                    \n",
            "__________________________________________________________________________________________________\n",
            "batch_normalization_37 (BatchNo (None, 32, 32, 32)   128         conv2d_27[0][0]                  \n",
            "__________________________________________________________________________________________________\n",
            "max_pooling2d_16 (MaxPooling2D) (None, 16, 16, 32)   0           batch_normalization_37[0][0]     \n",
            "__________________________________________________________________________________________________\n",
            "dropout_21 (Dropout)            (None, 16, 16, 32)   0           max_pooling2d_16[0][0]           \n",
            "__________________________________________________________________________________________________\n",
            "conv2d_28 (Conv2D)              (None, 16, 16, 32)   9248        dropout_21[0][0]                 \n",
            "__________________________________________________________________________________________________\n",
            "leaky_re_lu_9 (LeakyReLU)       (None, 16, 16, 32)   0           conv2d_28[0][0]                  \n",
            "__________________________________________________________________________________________________\n",
            "batch_normalization_38 (BatchNo (None, 16, 16, 32)   128         leaky_re_lu_9[0][0]              \n",
            "__________________________________________________________________________________________________\n",
            "max_pooling2d_17 (MaxPooling2D) (None, 8, 8, 32)     0           batch_normalization_38[0][0]     \n",
            "__________________________________________________________________________________________________\n",
            "dropout_22 (Dropout)            (None, 8, 8, 32)     0           max_pooling2d_17[0][0]           \n",
            "__________________________________________________________________________________________________\n",
            "conv2d_29 (Conv2D)              (None, 8, 8, 64)     18496       dropout_22[0][0]                 \n",
            "__________________________________________________________________________________________________\n",
            "batch_normalization_39 (BatchNo (None, 8, 8, 64)     256         conv2d_29[0][0]                  \n",
            "__________________________________________________________________________________________________\n",
            "max_pooling2d_18 (MaxPooling2D) (None, 4, 4, 64)     0           batch_normalization_39[0][0]     \n",
            "__________________________________________________________________________________________________\n",
            "conv2d_transpose_18 (Conv2DTran (None, 8, 8, 64)     36928       max_pooling2d_18[0][0]           \n",
            "__________________________________________________________________________________________________\n",
            "batch_normalization_40 (BatchNo (None, 8, 8, 64)     256         conv2d_transpose_18[0][0]        \n",
            "__________________________________________________________________________________________________\n",
            "dropout_23 (Dropout)            (None, 8, 8, 64)     0           batch_normalization_40[0][0]     \n",
            "__________________________________________________________________________________________________\n",
            "conv2d_transpose_19 (Conv2DTran (None, 16, 16, 32)   18464       dropout_23[0][0]                 \n",
            "__________________________________________________________________________________________________\n",
            "batch_normalization_41 (BatchNo (None, 16, 16, 32)   128         conv2d_transpose_19[0][0]        \n",
            "__________________________________________________________________________________________________\n",
            "dropout_24 (Dropout)            (None, 16, 16, 32)   0           batch_normalization_41[0][0]     \n",
            "__________________________________________________________________________________________________\n",
            "conv2d_transpose_20 (Conv2DTran (None, 16, 16, 32)   9248        dropout_24[0][0]                 \n",
            "__________________________________________________________________________________________________\n",
            "add (Add)                       (None, 16, 16, 32)   0           conv2d_transpose_20[0][0]        \n",
            "                                                                 conv2d_28[0][0]                  \n",
            "__________________________________________________________________________________________________\n",
            "leaky_re_lu_10 (LeakyReLU)      (None, 16, 16, 32)   0           add[0][0]                        \n",
            "__________________________________________________________________________________________________\n",
            "batch_normalization_42 (BatchNo (None, 16, 16, 32)   128         leaky_re_lu_10[0][0]             \n",
            "__________________________________________________________________________________________________\n",
            "conv2d_transpose_21 (Conv2DTran (None, 32, 32, 3)    867         batch_normalization_42[0][0]     \n",
            "==================================================================================================\n",
            "Total params: 95,171\n",
            "Trainable params: 94,659\n",
            "Non-trainable params: 512\n",
            "__________________________________________________________________________________________________\n"
          ]
        }
      ]
    },
    {
      "cell_type": "markdown",
      "metadata": {
        "id": "B0h_o6nnufjg"
      },
      "source": [
        "<a id = \"cell_execution\"></a>\n",
        "## 4. Model Execution"
      ]
    },
    {
      "cell_type": "markdown",
      "metadata": {
        "id": "rOYMgMnGvxvC"
      },
      "source": [
        "**Model 1**"
      ]
    },
    {
      "cell_type": "code",
      "metadata": {
        "colab": {
          "base_uri": "https://localhost:8080/"
        },
        "id": "XwBAcgp7Qa-N",
        "outputId": "66ead934-efac-44a8-9eff-c700ba2b223b"
      },
      "source": [
        "callbacks = [EarlyStopping(monitor='val_loss', patience=20, verbose=0)]\n",
        "\n",
        "opt_rmsprop = RMSprop(learning_rate=0.1)\n",
        "\n",
        "model.compile(optimizer=opt_rmsprop, loss='binary_crossentropy')\n",
        "hist6 = model.fit(x_train_noisy, x_train,\n",
        "                epochs=100,\n",
        "                batch_size=128,\n",
        "                shuffle=True,\n",
        "                validation_data=(x_test_noisy, x_test),\n",
        "                callbacks=callbacks)"
      ],
      "execution_count": null,
      "outputs": [
        {
          "output_type": "stream",
          "name": "stdout",
          "text": [
            "Epoch 1/100\n",
            "391/391 [==============================] - 14s 33ms/step - loss: 0.5900 - val_loss: 1.2064\n",
            "Epoch 2/100\n",
            "391/391 [==============================] - 12s 32ms/step - loss: 0.5758 - val_loss: 0.9020\n",
            "Epoch 3/100\n",
            "391/391 [==============================] - 12s 31ms/step - loss: 0.5740 - val_loss: 0.6011\n",
            "Epoch 4/100\n",
            "391/391 [==============================] - 12s 31ms/step - loss: 0.5747 - val_loss: 0.5761\n",
            "Epoch 5/100\n",
            "391/391 [==============================] - 12s 31ms/step - loss: 0.5753 - val_loss: 0.5721\n",
            "Epoch 6/100\n",
            "391/391 [==============================] - 12s 31ms/step - loss: 0.5724 - val_loss: 0.5859\n",
            "Epoch 7/100\n",
            "391/391 [==============================] - 12s 31ms/step - loss: 0.5735 - val_loss: 0.5684\n",
            "Epoch 8/100\n",
            "391/391 [==============================] - 12s 31ms/step - loss: 0.5750 - val_loss: 0.5853\n",
            "Epoch 9/100\n",
            "391/391 [==============================] - 12s 31ms/step - loss: 0.5734 - val_loss: 0.5715\n",
            "Epoch 10/100\n",
            "391/391 [==============================] - 12s 31ms/step - loss: 0.5738 - val_loss: 0.5771\n",
            "Epoch 11/100\n",
            "391/391 [==============================] - 12s 31ms/step - loss: 0.5717 - val_loss: 0.5678\n",
            "Epoch 12/100\n",
            "391/391 [==============================] - 12s 31ms/step - loss: 0.5722 - val_loss: 0.5691\n",
            "Epoch 13/100\n",
            "391/391 [==============================] - 12s 31ms/step - loss: 0.5736 - val_loss: 0.5652\n",
            "Epoch 14/100\n",
            "391/391 [==============================] - 12s 31ms/step - loss: 0.5721 - val_loss: 0.5698\n",
            "Epoch 15/100\n",
            "391/391 [==============================] - 12s 31ms/step - loss: 0.5760 - val_loss: 0.5702\n",
            "Epoch 16/100\n",
            "391/391 [==============================] - 12s 31ms/step - loss: 0.5723 - val_loss: 0.5661\n",
            "Epoch 17/100\n",
            "391/391 [==============================] - 12s 31ms/step - loss: 0.5733 - val_loss: 0.5694\n",
            "Epoch 18/100\n",
            "391/391 [==============================] - 12s 31ms/step - loss: 0.5704 - val_loss: 0.5850\n",
            "Epoch 19/100\n",
            "391/391 [==============================] - 12s 31ms/step - loss: 0.5733 - val_loss: 0.5728\n",
            "Epoch 20/100\n",
            "391/391 [==============================] - 12s 31ms/step - loss: 0.5765 - val_loss: 0.5758\n",
            "Epoch 21/100\n",
            "391/391 [==============================] - 12s 31ms/step - loss: 0.5724 - val_loss: 0.5674\n",
            "Epoch 22/100\n",
            "391/391 [==============================] - 12s 31ms/step - loss: 0.5716 - val_loss: 0.5653\n",
            "Epoch 23/100\n",
            "391/391 [==============================] - 12s 31ms/step - loss: 0.5719 - val_loss: 0.5768\n",
            "Epoch 24/100\n",
            "391/391 [==============================] - 12s 31ms/step - loss: 0.5735 - val_loss: 0.5770\n",
            "Epoch 25/100\n",
            "391/391 [==============================] - 12s 31ms/step - loss: 0.5727 - val_loss: 0.5682\n",
            "Epoch 26/100\n",
            "391/391 [==============================] - 12s 31ms/step - loss: 0.5741 - val_loss: 0.5740\n",
            "Epoch 27/100\n",
            "391/391 [==============================] - 12s 31ms/step - loss: 0.5723 - val_loss: 0.5667\n",
            "Epoch 28/100\n",
            "391/391 [==============================] - 12s 31ms/step - loss: 0.5712 - val_loss: 0.5720\n",
            "Epoch 29/100\n",
            "391/391 [==============================] - 12s 31ms/step - loss: 0.5737 - val_loss: 0.5642\n",
            "Epoch 30/100\n",
            "391/391 [==============================] - 12s 31ms/step - loss: 0.5726 - val_loss: 0.5686\n",
            "Epoch 31/100\n",
            "391/391 [==============================] - 12s 31ms/step - loss: 0.5743 - val_loss: 0.5794\n",
            "Epoch 32/100\n",
            "391/391 [==============================] - 12s 31ms/step - loss: 0.5742 - val_loss: 0.5644\n",
            "Epoch 33/100\n",
            "391/391 [==============================] - 12s 31ms/step - loss: 0.5711 - val_loss: 0.5670\n",
            "Epoch 34/100\n",
            "391/391 [==============================] - 12s 32ms/step - loss: 0.5731 - val_loss: 0.5662\n",
            "Epoch 35/100\n",
            "391/391 [==============================] - 12s 32ms/step - loss: 0.5716 - val_loss: 0.6704\n",
            "Epoch 36/100\n",
            "391/391 [==============================] - 12s 31ms/step - loss: 0.5724 - val_loss: 0.5693\n",
            "Epoch 37/100\n",
            "391/391 [==============================] - 12s 32ms/step - loss: 0.5717 - val_loss: 0.5752\n",
            "Epoch 38/100\n",
            "391/391 [==============================] - 12s 31ms/step - loss: 0.5726 - val_loss: 0.5749\n",
            "Epoch 39/100\n",
            "391/391 [==============================] - 12s 31ms/step - loss: 0.5722 - val_loss: 0.5663\n",
            "Epoch 40/100\n",
            "391/391 [==============================] - 12s 31ms/step - loss: 0.5704 - val_loss: 0.5647\n",
            "Epoch 41/100\n",
            "391/391 [==============================] - 12s 32ms/step - loss: 0.5715 - val_loss: 0.5696\n",
            "Epoch 42/100\n",
            "391/391 [==============================] - 12s 32ms/step - loss: 0.5728 - val_loss: 0.5918\n",
            "Epoch 43/100\n",
            "391/391 [==============================] - 12s 31ms/step - loss: 0.5744 - val_loss: 0.5651\n",
            "Epoch 44/100\n",
            "391/391 [==============================] - 12s 31ms/step - loss: 0.5729 - val_loss: 0.5682\n",
            "Epoch 45/100\n",
            "391/391 [==============================] - 12s 32ms/step - loss: 0.5723 - val_loss: 0.5655\n",
            "Epoch 46/100\n",
            "391/391 [==============================] - 12s 32ms/step - loss: 0.5735 - val_loss: 0.6002\n",
            "Epoch 47/100\n",
            "391/391 [==============================] - 12s 31ms/step - loss: 0.5719 - val_loss: 0.5654\n",
            "Epoch 48/100\n",
            "391/391 [==============================] - 12s 31ms/step - loss: 0.5720 - val_loss: 0.5664\n",
            "Epoch 49/100\n",
            "391/391 [==============================] - 12s 31ms/step - loss: 0.5720 - val_loss: 0.5656\n"
          ]
        }
      ]
    },
    {
      "cell_type": "code",
      "metadata": {
        "colab": {
          "base_uri": "https://localhost:8080/",
          "height": 350
        },
        "id": "Yja6QCdAjI6n",
        "outputId": "26001db7-0c15-4856-b62c-1d7ed0e7d3bd"
      },
      "source": [
        "plot_hist(hist6.history, xsize=8, ysize=5)"
      ],
      "execution_count": null,
      "outputs": [
        {
          "output_type": "display_data",
          "data": {
            "image/png": "[encoded data removed]",
            "text/plain": [
              "<Figure size 576x360 with 1 Axes>"
            ]
          },
          "metadata": {
            "needs_background": "light"
          }
        }
      ]
    },
    {
      "cell_type": "markdown",
      "metadata": {
        "id": "tcySQ21qGIJq"
      },
      "source": [
        "The loss curve shows that there is minimal difference between train and validation."
      ]
    },
    {
      "cell_type": "code",
      "metadata": {
        "colab": {
          "base_uri": "https://localhost:8080/",
          "height": 162
        },
        "id": "sbw_HvDyUXOa",
        "outputId": "61fa648f-668a-491b-9bf2-f15e69acb915"
      },
      "source": [
        "decoded_noisy_imgs3 = model.predict(x_test_noisy)\n",
        "\n",
        "idx = 4\n",
        "plt.subplot(1,3,1)\n",
        "plt.imshow(x_test[idx])\n",
        "plt.title('original')\n",
        "plt.subplot(1,3,2)\n",
        "plt.imshow(x_test_noisy[idx])\n",
        "plt.title('noisy')\n",
        "plt.subplot(1,3,3)\n",
        "plt.imshow(decoded_noisy_imgs3[idx])\n",
        "plt.title('denoised')\n",
        "plt.show()"
      ],
      "execution_count": null,
      "outputs": [
        {
          "output_type": "display_data",
          "data": {
            "image/png": "[encoded data removed]",
            "text/plain": [
              "<Figure size 432x288 with 3 Axes>"
            ]
          },
          "metadata": {
            "needs_background": "light"
          }
        }
      ]
    },
    {
      "cell_type": "code",
      "metadata": {
        "colab": {
          "base_uri": "https://localhost:8080/"
        },
        "id": "gpmGStoyihFi",
        "outputId": "db8b78e3-25ad-4d1f-b23f-707c8297b069"
      },
      "source": [
        "print('Original vs noisy MAE = \\t', round(mae_images(x_test, x_test_noisy), 5))\n",
        "print('Original vs denoised MAE = \\t', round(mae_images(x_test, decoded_noisy_imgs3), 5))"
      ],
      "execution_count": null,
      "outputs": [
        {
          "output_type": "stream",
          "name": "stdout",
          "text": [
            "Original vs noisy MAE = \t 0.20257\n",
            "Original vs denoised MAE = \t 0.06139\n"
          ]
        }
      ]
    },
    {
      "cell_type": "markdown",
      "metadata": {
        "id": "mQRp1uRBv1re"
      },
      "source": [
        "**Model 2**"
      ]
    },
    {
      "cell_type": "code",
      "metadata": {
        "colab": {
          "base_uri": "https://localhost:8080/"
        },
        "id": "N8Hdl-cNWfVV",
        "outputId": "e1c446a7-f42f-403c-b833-95a6dc42d3f8"
      },
      "source": [
        "callbacks = [EarlyStopping(monitor='val_loss', patience=20, verbose=0)]\n",
        "\n",
        "opt_adam = Adam(learning_rate=0.001)\n",
        "\n",
        "autoencoder.compile(optimizer=opt_adam, loss='binary_crossentropy')\n",
        "hist2 = autoencoder.fit(x_train_noisy, x_train,\n",
        "                epochs=100,\n",
        "                batch_size=256,\n",
        "                shuffle=True,\n",
        "                validation_data=(x_test_noisy, x_test),\n",
        "                callbacks=callbacks)"
      ],
      "execution_count": null,
      "outputs": [
        {
          "output_type": "stream",
          "name": "stdout",
          "text": [
            "Epoch 1/100\n",
            "196/196 [==============================] - 10s 46ms/step - loss: 0.5703 - val_loss: 0.5674\n",
            "Epoch 2/100\n",
            "196/196 [==============================] - 9s 44ms/step - loss: 0.5703 - val_loss: 0.5675\n",
            "Epoch 3/100\n",
            "196/196 [==============================] - 9s 44ms/step - loss: 0.5703 - val_loss: 0.5675\n",
            "Epoch 4/100\n",
            "196/196 [==============================] - 9s 44ms/step - loss: 0.5703 - val_loss: 0.5674\n",
            "Epoch 5/100\n",
            "196/196 [==============================] - 9s 44ms/step - loss: 0.5703 - val_loss: 0.5673\n",
            "Epoch 6/100\n",
            "196/196 [==============================] - 9s 44ms/step - loss: 0.5702 - val_loss: 0.5674\n",
            "Epoch 7/100\n",
            "196/196 [==============================] - 9s 44ms/step - loss: 0.5702 - val_loss: 0.5673\n",
            "Epoch 8/100\n",
            "196/196 [==============================] - 9s 44ms/step - loss: 0.5702 - val_loss: 0.5673\n",
            "Epoch 9/100\n",
            "196/196 [==============================] - 8s 43ms/step - loss: 0.5702 - val_loss: 0.5675\n",
            "Epoch 10/100\n",
            "196/196 [==============================] - 9s 44ms/step - loss: 0.5702 - val_loss: 0.5675\n",
            "Epoch 11/100\n",
            "196/196 [==============================] - 9s 44ms/step - loss: 0.5702 - val_loss: 0.5674\n",
            "Epoch 12/100\n",
            "196/196 [==============================] - 8s 43ms/step - loss: 0.5701 - val_loss: 0.5673\n",
            "Epoch 13/100\n",
            "196/196 [==============================] - 9s 43ms/step - loss: 0.5701 - val_loss: 0.5673\n",
            "Epoch 14/100\n",
            "196/196 [==============================] - 9s 44ms/step - loss: 0.5701 - val_loss: 0.5673\n",
            "Epoch 15/100\n",
            "196/196 [==============================] - 9s 43ms/step - loss: 0.5702 - val_loss: 0.5673\n",
            "Epoch 16/100\n",
            "196/196 [==============================] - 8s 43ms/step - loss: 0.5701 - val_loss: 0.5674\n",
            "Epoch 17/100\n",
            "196/196 [==============================] - 9s 43ms/step - loss: 0.5701 - val_loss: 0.5674\n",
            "Epoch 18/100\n",
            "196/196 [==============================] - 9s 44ms/step - loss: 0.5701 - val_loss: 0.5673\n",
            "Epoch 19/100\n",
            "196/196 [==============================] - 9s 44ms/step - loss: 0.5701 - val_loss: 0.5673\n",
            "Epoch 20/100\n",
            "196/196 [==============================] - 9s 43ms/step - loss: 0.5701 - val_loss: 0.5672\n",
            "Epoch 21/100\n",
            "196/196 [==============================] - 8s 43ms/step - loss: 0.5701 - val_loss: 0.5673\n",
            "Epoch 22/100\n",
            "196/196 [==============================] - 9s 44ms/step - loss: 0.5701 - val_loss: 0.5673\n",
            "Epoch 23/100\n",
            "196/196 [==============================] - 9s 45ms/step - loss: 0.5700 - val_loss: 0.5674\n",
            "Epoch 24/100\n",
            "196/196 [==============================] - 9s 44ms/step - loss: 0.5700 - val_loss: 0.5672\n",
            "Epoch 25/100\n",
            "196/196 [==============================] - 9s 44ms/step - loss: 0.5700 - val_loss: 0.5674\n",
            "Epoch 26/100\n",
            "196/196 [==============================] - 9s 44ms/step - loss: 0.5700 - val_loss: 0.5673\n",
            "Epoch 27/100\n",
            "196/196 [==============================] - 9s 44ms/step - loss: 0.5700 - val_loss: 0.5674\n",
            "Epoch 28/100\n",
            "196/196 [==============================] - 9s 44ms/step - loss: 0.5700 - val_loss: 0.5673\n",
            "Epoch 29/100\n",
            "196/196 [==============================] - 9s 44ms/step - loss: 0.5700 - val_loss: 0.5673\n",
            "Epoch 30/100\n",
            "196/196 [==============================] - 9s 44ms/step - loss: 0.5700 - val_loss: 0.5672\n",
            "Epoch 31/100\n",
            "196/196 [==============================] - 9s 44ms/step - loss: 0.5700 - val_loss: 0.5673\n",
            "Epoch 32/100\n",
            "196/196 [==============================] - 9s 44ms/step - loss: 0.5700 - val_loss: 0.5673\n",
            "Epoch 33/100\n",
            "196/196 [==============================] - 9s 44ms/step - loss: 0.5700 - val_loss: 0.5672\n",
            "Epoch 34/100\n",
            "196/196 [==============================] - 9s 44ms/step - loss: 0.5700 - val_loss: 0.5673\n",
            "Epoch 35/100\n",
            "196/196 [==============================] - 9s 44ms/step - loss: 0.5700 - val_loss: 0.5671\n",
            "Epoch 36/100\n",
            "196/196 [==============================] - 9s 44ms/step - loss: 0.5700 - val_loss: 0.5672\n",
            "Epoch 37/100\n",
            "196/196 [==============================] - 9s 44ms/step - loss: 0.5700 - val_loss: 0.5673\n",
            "Epoch 38/100\n",
            "196/196 [==============================] - 9s 44ms/step - loss: 0.5700 - val_loss: 0.5672\n",
            "Epoch 39/100\n",
            "196/196 [==============================] - 9s 44ms/step - loss: 0.5699 - val_loss: 0.5673\n",
            "Epoch 40/100\n",
            "196/196 [==============================] - 9s 44ms/step - loss: 0.5700 - val_loss: 0.5672\n",
            "Epoch 41/100\n",
            "196/196 [==============================] - 9s 44ms/step - loss: 0.5700 - val_loss: 0.5672\n",
            "Epoch 42/100\n",
            "196/196 [==============================] - 9s 44ms/step - loss: 0.5699 - val_loss: 0.5672\n",
            "Epoch 43/100\n",
            "196/196 [==============================] - 9s 43ms/step - loss: 0.5699 - val_loss: 0.5672\n",
            "Epoch 44/100\n",
            "196/196 [==============================] - 8s 43ms/step - loss: 0.5699 - val_loss: 0.5673\n",
            "Epoch 45/100\n",
            "196/196 [==============================] - 9s 44ms/step - loss: 0.5699 - val_loss: 0.5674\n",
            "Epoch 46/100\n",
            "196/196 [==============================] - 9s 44ms/step - loss: 0.5699 - val_loss: 0.5673\n",
            "Epoch 47/100\n",
            "196/196 [==============================] - 9s 44ms/step - loss: 0.5699 - val_loss: 0.5672\n",
            "Epoch 48/100\n",
            "196/196 [==============================] - 9s 44ms/step - loss: 0.5699 - val_loss: 0.5672\n",
            "Epoch 49/100\n",
            "196/196 [==============================] - 9s 44ms/step - loss: 0.5699 - val_loss: 0.5672\n",
            "Epoch 50/100\n",
            "196/196 [==============================] - 9s 44ms/step - loss: 0.5699 - val_loss: 0.5671\n",
            "Epoch 51/100\n",
            "196/196 [==============================] - 9s 44ms/step - loss: 0.5699 - val_loss: 0.5672\n",
            "Epoch 52/100\n",
            "196/196 [==============================] - 9s 44ms/step - loss: 0.5699 - val_loss: 0.5673\n",
            "Epoch 53/100\n",
            "196/196 [==============================] - 9s 44ms/step - loss: 0.5699 - val_loss: 0.5672\n",
            "Epoch 54/100\n",
            "196/196 [==============================] - 9s 44ms/step - loss: 0.5699 - val_loss: 0.5673\n",
            "Epoch 55/100\n",
            "196/196 [==============================] - 9s 44ms/step - loss: 0.5698 - val_loss: 0.5672\n",
            "Epoch 56/100\n",
            "196/196 [==============================] - 9s 44ms/step - loss: 0.5699 - val_loss: 0.5673\n",
            "Epoch 57/100\n",
            "196/196 [==============================] - 9s 44ms/step - loss: 0.5698 - val_loss: 0.5672\n",
            "Epoch 58/100\n",
            "196/196 [==============================] - 9s 44ms/step - loss: 0.5698 - val_loss: 0.5673\n",
            "Epoch 59/100\n",
            "196/196 [==============================] - 9s 44ms/step - loss: 0.5698 - val_loss: 0.5673\n",
            "Epoch 60/100\n",
            "196/196 [==============================] - 9s 44ms/step - loss: 0.5698 - val_loss: 0.5672\n",
            "Epoch 61/100\n",
            "196/196 [==============================] - 9s 44ms/step - loss: 0.5698 - val_loss: 0.5673\n",
            "Epoch 62/100\n",
            "196/196 [==============================] - 9s 44ms/step - loss: 0.5698 - val_loss: 0.5673\n",
            "Epoch 63/100\n",
            "196/196 [==============================] - 9s 44ms/step - loss: 0.5698 - val_loss: 0.5673\n",
            "Epoch 64/100\n",
            "196/196 [==============================] - 9s 44ms/step - loss: 0.5698 - val_loss: 0.5671\n",
            "Epoch 65/100\n",
            "196/196 [==============================] - 9s 44ms/step - loss: 0.5698 - val_loss: 0.5671\n",
            "Epoch 66/100\n",
            "196/196 [==============================] - 9s 44ms/step - loss: 0.5698 - val_loss: 0.5672\n",
            "Epoch 67/100\n",
            "196/196 [==============================] - 9s 44ms/step - loss: 0.5698 - val_loss: 0.5671\n",
            "Epoch 68/100\n",
            "196/196 [==============================] - 9s 44ms/step - loss: 0.5698 - val_loss: 0.5672\n",
            "Epoch 69/100\n",
            "196/196 [==============================] - 9s 44ms/step - loss: 0.5699 - val_loss: 0.5672\n",
            "Epoch 70/100\n",
            "196/196 [==============================] - 9s 44ms/step - loss: 0.5698 - val_loss: 0.5672\n",
            "Epoch 71/100\n",
            "196/196 [==============================] - 9s 44ms/step - loss: 0.5698 - val_loss: 0.5673\n",
            "Epoch 72/100\n",
            "196/196 [==============================] - 9s 44ms/step - loss: 0.5698 - val_loss: 0.5672\n",
            "Epoch 73/100\n",
            "196/196 [==============================] - 9s 44ms/step - loss: 0.5698 - val_loss: 0.5671\n",
            "Epoch 74/100\n",
            "196/196 [==============================] - 9s 44ms/step - loss: 0.5698 - val_loss: 0.5672\n",
            "Epoch 75/100\n",
            "196/196 [==============================] - 9s 44ms/step - loss: 0.5698 - val_loss: 0.5671\n",
            "Epoch 76/100\n",
            "196/196 [==============================] - 9s 43ms/step - loss: 0.5697 - val_loss: 0.5671\n",
            "Epoch 77/100\n",
            "196/196 [==============================] - 9s 44ms/step - loss: 0.5697 - val_loss: 0.5672\n",
            "Epoch 78/100\n",
            "196/196 [==============================] - 9s 44ms/step - loss: 0.5698 - val_loss: 0.5673\n",
            "Epoch 79/100\n",
            "196/196 [==============================] - 9s 44ms/step - loss: 0.5698 - val_loss: 0.5672\n",
            "Epoch 80/100\n",
            "196/196 [==============================] - 9s 44ms/step - loss: 0.5697 - val_loss: 0.5671\n",
            "Epoch 81/100\n",
            "196/196 [==============================] - 9s 44ms/step - loss: 0.5697 - val_loss: 0.5672\n",
            "Epoch 82/100\n",
            "196/196 [==============================] - 9s 44ms/step - loss: 0.5697 - val_loss: 0.5671\n",
            "Epoch 83/100\n",
            "196/196 [==============================] - 9s 44ms/step - loss: 0.5697 - val_loss: 0.5672\n",
            "Epoch 84/100\n",
            "196/196 [==============================] - 9s 44ms/step - loss: 0.5697 - val_loss: 0.5673\n"
          ]
        }
      ]
    },
    {
      "cell_type": "code",
      "metadata": {
        "colab": {
          "base_uri": "https://localhost:8080/",
          "height": 350
        },
        "id": "pdnSsJMkjdYh",
        "outputId": "a02c788d-a44b-4279-f8d7-bfb3708936e9"
      },
      "source": [
        "plot_hist(hist2.history, xsize=8, ysize=5)"
      ],
      "execution_count": null,
      "outputs": [
        {
          "output_type": "display_data",
          "data": {
            "image/png": "[encoded data removed]",
            "text/plain": [
              "<Figure size 576x360 with 1 Axes>"
            ]
          },
          "metadata": {
            "needs_background": "light"
          }
        }
      ]
    },
    {
      "cell_type": "markdown",
      "metadata": {
        "id": "rQNXhTpdF7Ze"
      },
      "source": [
        "The loss curve shows that there is significant difference between train and validation."
      ]
    },
    {
      "cell_type": "code",
      "metadata": {
        "colab": {
          "base_uri": "https://localhost:8080/",
          "height": 162
        },
        "id": "HeD8mL62aOSJ",
        "outputId": "002be5e5-7e15-4661-ec48-d870601d85af"
      },
      "source": [
        "decoded_noisy_imgs2 = autoencoder.predict(x_test_noisy)\n",
        "\n",
        "idx = 4\n",
        "plt.subplot(1,3,1)\n",
        "plt.imshow(x_test[idx])\n",
        "plt.title('original')\n",
        "plt.subplot(1,3,2)\n",
        "plt.imshow(x_test_noisy[idx])\n",
        "plt.title('noisy')\n",
        "plt.subplot(1,3,3)\n",
        "plt.imshow(decoded_noisy_imgs2[idx])\n",
        "plt.title('denoised')\n",
        "plt.show()"
      ],
      "execution_count": null,
      "outputs": [
        {
          "output_type": "display_data",
          "data": {
            "image/png": "[encoded data removed]",
            "text/plain": [
              "<Figure size 432x288 with 3 Axes>"
            ]
          },
          "metadata": {
            "needs_background": "light"
          }
        }
      ]
    },
    {
      "cell_type": "code",
      "metadata": {
        "colab": {
          "base_uri": "https://localhost:8080/"
        },
        "id": "UOsMBNNmi08p",
        "outputId": "756d5f9b-7f54-46ec-a3d8-744e5b2f89e9"
      },
      "source": [
        "print('Original vs noisy MAE = \\t', round(mae_images(x_test, x_test_noisy), 5))\n",
        "print('Original vs denoised MAE = \\t', round(mae_images(x_test, decoded_noisy_imgs2), 5))"
      ],
      "execution_count": null,
      "outputs": [
        {
          "output_type": "stream",
          "name": "stdout",
          "text": [
            "Original vs noisy MAE = \t 0.20257\n",
            "Original vs denoised MAE = \t 0.06519\n"
          ]
        }
      ]
    },
    {
      "cell_type": "markdown",
      "metadata": {
        "id": "tLBXWEhpYzhg"
      },
      "source": [
        "<a id = \"cell_report\"></a>\n",
        "## 5. Experiments Report"
      ]
    },
    {
      "cell_type": "markdown",
      "metadata": {
        "id": "Ey6vhPHtEWsL"
      },
      "source": [
        "strenghths: takes less time to training the models.\n",
        "weakness: the quality of predicted images still need improving.\n",
        "As shown below, the 2 models have simialr performance in terms of the MAE comparision, model 1 is slighltly better than model 2. Additioanlly, according to loss curve, model 1 shows minimal difference between train and validation, model 2 shows significant difference between train and validation. Therefore, model 1 will be recommeded as the final model because it is more practical. "
      ]
    },
    {
      "cell_type": "markdown",
      "metadata": {
        "id": "F4TOBYZpCz72"
      },
      "source": [
        "<a id = \"cell_report\"></a>\n",
        "## 6. References\n"
      ]
    },
    {
      "cell_type": "markdown",
      "metadata": {
        "id": "Xa-bG8_nfvaC"
      },
      "source": [
        "1. Kumar.T. 2020. Autoencoder Denoising Image (MNIST/Cifar10). Retrived from<https://www.kaggle.com/tarunkr/autoencoder-denoising-image-mnist-cifar10>\n",
        "\n",
        "2. Fijalkowski.B. 2019. A denoising autoencoder for CIFAR dataset(s). Retrived from<https://codahead.com/blog/a-denoising-autoencoder-for-cifar-datasets>\n",
        "\n",
        "3. Brownlee.J. 2020. How to Develop a CNN From Scratch for CIFAR-10 Photo Classification. Retrived from<https://machinelearningmastery.com/how-to-develop-a-cnn-from-scratch-for-cifar-10-photo-classification/>"
      ]
    }
  ]
}