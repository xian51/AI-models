{
  "nbformat": 4,
  "nbformat_minor": 0,
  "metadata": {
    "kernelspec": {
      "display_name": "Python 3",
      "language": "python",
      "name": "python3"
    },
    "language_info": {
      "codemirror_mode": {
        "name": "ipython",
        "version": 3
      },
      "file_extension": ".py",
      "mimetype": "text/x-python",
      "name": "python",
      "nbconvert_exporter": "python",
      "pygments_lexer": "ipython3",
      "version": "3.7.1"
    },
    "colab": {
      "name": "XIAN-ZHU-MIS780A2PartC.ipynb",
      "provenance": [],
      "collapsed_sections": [
        "QoBihZe6_Acd"
      ],
      "include_colab_link": true
    }
  },
  "cells": [
    {
      "cell_type": "markdown",
      "metadata": {
        "id": "view-in-github",
        "colab_type": "text"
      },
      "source": [
        "<a href=\"https://colab.research.google.com/github/xian51/AI-models/blob/main/XIAN_ZHU_MIS780A2PartC.ipynb\" target=\"_parent\"><img src=\"https://colab.research.google.com/assets/colab-badge.svg\" alt=\"Open In Colab\"/></a>"
      ]
    },
    {
      "cell_type": "markdown",
      "metadata": {
        "id": "SZwQc8iIYzhL"
      },
      "source": [
        "# MIS780 Advanced AI For Business - Assignment 2 - T2 2021\n",
        "\n",
        "## Part C:  Deep Learning for Time Series Data"
      ]
    },
    {
      "cell_type": "markdown",
      "metadata": {
        "id": "LocH583hYzhR"
      },
      "source": [
        "**Student Name:** _enter your full name here_\n",
        "\n",
        "**Student ID:** _enter your student ID here_"
      ]
    },
    {
      "cell_type": "markdown",
      "metadata": {
        "id": "epCN92jil8-T"
      },
      "source": [
        "*Markdown formats: All tables and images will be aligned to the left. (Do not remove this code)*"
      ]
    },
    {
      "cell_type": "code",
      "metadata": {
        "id": "8dCcx2fPl8PO"
      },
      "source": [
        "%%html\n",
        "<style>table {float:left}</style>\n",
        "<style>img {float:left}</style>"
      ],
      "execution_count": null,
      "outputs": []
    },
    {
      "cell_type": "markdown",
      "metadata": {
        "id": "QoBihZe6_Acd"
      },
      "source": [
        "## Table of Content\n",
        "   \n",
        "1. [Notebook Preparation](#cell_Preparation)\n",
        "\n",
        "2. [Data Preprocessing](#cell_Preprocessing)\n",
        "\n",
        "3. [Model Construction](#cell_model)\n",
        "\n",
        "4. [Model Execution](#cell_execution)\n",
        " \n",
        "5. [Prediction](#cell_report)\n",
        "\n"
      ]
    },
    {
      "cell_type": "markdown",
      "metadata": {
        "id": "ufoVVdqtYzhU"
      },
      "source": [
        "<a id = \"cell_Preparation\"></a>\n",
        "## 1. Notebook Preparation"
      ]
    },
    {
      "cell_type": "markdown",
      "metadata": {
        "id": "njDKx1_JYzhU"
      },
      "source": [
        "Provide code to load all required Python libraries."
      ]
    },
    {
      "cell_type": "code",
      "metadata": {
        "id": "BQo3ipOhYzhV"
      },
      "source": [
        "import pandas as pd\n",
        "import numpy as np\n",
        "import matplotlib.pyplot as plt\n",
        "import seaborn as sns\n",
        "import os\n",
        "import math"
      ],
      "execution_count": null,
      "outputs": []
    },
    {
      "cell_type": "code",
      "metadata": {
        "id": "F8U5bBvWG5Eo"
      },
      "source": [
        "from sklearn.preprocessing import StandardScaler, MinMaxScaler"
      ],
      "execution_count": null,
      "outputs": []
    },
    {
      "cell_type": "code",
      "metadata": {
        "id": "7zEJWnQ03N6-"
      },
      "source": [
        "import tensorflow as tf\n",
        "from tensorflow.keras import metrics\n",
        "from tensorflow.keras import regularizers\n",
        "from tensorflow.keras.models import Sequential\n",
        "from tensorflow.keras.layers import Input, Dense, GRU, Embedding, BatchNormalization\n",
        "from tensorflow.keras.layers import Conv2D, MaxPooling2D, Dropout, Flatten, Activation\n",
        "from tensorflow.keras.optimizers import Adam, Nadam, RMSprop, SGD, Adadelta\n",
        "from tensorflow.keras.callbacks import EarlyStopping, ModelCheckpoint, TensorBoard, ReduceLROnPlateau\n",
        "from tensorflow.keras.backend import square, mean\n",
        "from tensorflow.keras.models import load_model"
      ],
      "execution_count": null,
      "outputs": []
    },
    {
      "cell_type": "markdown",
      "metadata": {
        "id": "QTiyUCEdnL4a"
      },
      "source": [
        "Provide code to define any common functions."
      ]
    },
    {
      "cell_type": "code",
      "metadata": {
        "id": "LVxT9okkMAkG"
      },
      "source": [
        "def batch_generator(batch_size, sequence_length):\n",
        "    while True:\n",
        "        # Allocate a new array for the batch of input-events.\n",
        "        x_shape = (batch_size, sequence_length, num_x_events)\n",
        "        x_batch = np.zeros(shape=x_shape, dtype=np.float16)\n",
        "\n",
        "        # Allocate a new array for the batch of output-events.\n",
        "        y_shape = (batch_size, sequence_length, num_y_events)\n",
        "        y_batch = np.zeros(shape=y_shape, dtype=np.float16)\n",
        "\n",
        "        # Fill the batch with random sequences of data.\n",
        "        for i in range(batch_size):\n",
        "            # Get a random start-index.\n",
        "            # This points somewhere into the training-data.\n",
        "            idx = np.random.randint(num_train - sequence_length)\n",
        "            \n",
        "            # Copy the sequences of data starting at this index.\n",
        "            x_batch[i] = x_train_scaled[idx:idx+sequence_length]\n",
        "            y_batch[i] = y_train_scaled[idx:idx+sequence_length]\n",
        "        \n",
        "        yield (x_batch, y_batch)"
      ],
      "execution_count": null,
      "outputs": []
    },
    {
      "cell_type": "code",
      "metadata": {
        "id": "m7lqsmUDnRBu"
      },
      "source": [
        "# The shape of both input tensors are: [batch_size, sequence_length, num_y_events]\n",
        "def loss_mse_warmup(y_true, y_pred):\n",
        "    # Ignore the \"warmup\" parts of the sequences\n",
        "    y_true_slice = y_true[:, warmup_steps:, :]\n",
        "    y_pred_slice = y_pred[:, warmup_steps:, :]\n",
        "    mse = mean(square(y_true_slice - y_pred_slice))   \n",
        "    return mse"
      ],
      "execution_count": null,
      "outputs": []
    },
    {
      "cell_type": "code",
      "metadata": {
        "id": "wXv_Z6Moa7Pw"
      },
      "source": [
        "# Initiates collections of model performance\n",
        "def start_hist():\n",
        "    return {}\n",
        "\n",
        "# Adds more performance indicators to history\n",
        "def collect_hist(accum_hist, next_hist):\n",
        "    # Get all keys\n",
        "    keys = list(next_hist.keys())\n",
        "    for k in keys:\n",
        "        if k in accum_hist:\n",
        "            accum_hist[k].extend(next_hist[k])\n",
        "        else:\n",
        "            accum_hist[k] = next_hist[k]\n",
        "    return accum_hist"
      ],
      "execution_count": null,
      "outputs": []
    },
    {
      "cell_type": "code",
      "metadata": {
        "id": "b8g-3SLvdWdo"
      },
      "source": [
        "def plot_hist(h, xsize=6, ysize=5):\n",
        "    # Prepare plotting\n",
        "    fig_size = plt.rcParams[\"figure.figsize\"]\n",
        "    plt.rcParams[\"figure.figsize\"] = [xsize, ysize]\n",
        "    \n",
        "    # Get training and validation keys\n",
        "    ks = list(h.keys())\n",
        "    n2 = math.floor(len(ks)/2)\n",
        "    train_keys = ks[0:n2]\n",
        "    valid_keys = ks[n2:2*n2]\n",
        "    \n",
        "    # summarize history for different metrics\n",
        "    for i in range(n2):\n",
        "        plt.plot(h[train_keys[i]])\n",
        "        plt.plot(h[valid_keys[i]])\n",
        "        plt.title('Training vs Validation '+train_keys[i])\n",
        "        plt.ylabel(train_keys[i])\n",
        "        plt.xlabel('Epoch')\n",
        "        plt.legend(['Train', 'Validation'], loc='upper left')\n",
        "        plt.draw()\n",
        "        plt.show()\n",
        "    \n",
        "    return"
      ],
      "execution_count": null,
      "outputs": []
    },
    {
      "cell_type": "markdown",
      "metadata": {
        "id": "nqPl5gh_YzhX"
      },
      "source": [
        "<a id = \"cell_Preprocessing\"></a>\n",
        "## 2. Data Preprocessing"
      ]
    },
    {
      "cell_type": "markdown",
      "metadata": {
        "id": "vKlthRTNYzhY"
      },
      "source": [
        "*Load data from file and carry out necessary preprocessing.*"
      ]
    },
    {
      "cell_type": "code",
      "metadata": {
        "colab": {
          "base_uri": "https://localhost:8080/"
        },
        "id": "5Jnhh2zuCb76",
        "outputId": "c3a638ee-40e1-441c-d04b-c43285004d55"
      },
      "source": [
        "from google.colab import drive\n",
        "drive.mount('/content/drive')"
      ],
      "execution_count": null,
      "outputs": [
        {
          "output_type": "stream",
          "name": "stdout",
          "text": [
            "Drive already mounted at /content/drive; to attempt to forcibly remount, call drive.mount(\"/content/drive\", force_remount=True).\n"
          ]
        }
      ]
    },
    {
      "cell_type": "code",
      "metadata": {
        "id": "xUrPcLEzYzhY",
        "colab": {
          "base_uri": "https://localhost:8080/"
        },
        "outputId": "9820cefc-ce56-416f-826e-0b4dc812ad6c"
      },
      "source": [
        "stock = pd.read_csv('/content/drive/MyDrive/PartC-Stocks.csv',index_col='Date',parse_dates=True)\n",
        "stock.head"
      ],
      "execution_count": null,
      "outputs": [
        {
          "output_type": "execute_result",
          "data": {
            "text/plain": [
              "<bound method NDFrame.head of               Day        HPQ        GOOGL  ...        ADBE         AMZN        AAPL\n",
              "Date                                       ...                                     \n",
              "2010-01-04  14612  23.819256   313.688690  ...   37.090000   133.899994   30.572857\n",
              "2010-01-05  14613  23.919165   312.307312  ...   37.700001   134.690002   30.625713\n",
              "2010-01-06  14614  23.696640   304.434448  ...   37.619999   132.250000   30.138571\n",
              "2010-01-07  14615  23.705723   297.347351  ...   36.889999   130.000000   30.082857\n",
              "2010-01-08  14616  23.882833   301.311310  ...   36.689999   133.520004   30.282858\n",
              "...           ...        ...          ...  ...         ...          ...         ...\n",
              "2019-12-24  18253  20.590000  1344.430054  ...  329.640015  1789.209961  284.269989\n",
              "2019-12-26  18255  20.690001  1362.469971  ...  331.200012  1868.770020  289.910004\n",
              "2019-12-27  18256  20.530001  1354.640015  ...  330.790009  1869.800049  289.799988\n",
              "2019-12-30  18259  20.490000  1339.709961  ...  328.339996  1846.890015  291.519989\n",
              "2019-12-31  18260  20.549999  1339.390015  ...  329.809998  1847.839966  293.649994\n",
              "\n",
              "[2516 rows x 9 columns]>"
            ]
          },
          "metadata": {},
          "execution_count": 137
        }
      ]
    },
    {
      "cell_type": "markdown",
      "metadata": {
        "id": "Q_xgJS9pDtVl"
      },
      "source": [
        "Check that we do not have very large gaps in time series. "
      ]
    },
    {
      "cell_type": "code",
      "metadata": {
        "colab": {
          "base_uri": "https://localhost:8080/",
          "height": 286
        },
        "id": "jXqfANNEDhOX",
        "outputId": "e568ead5-d2cb-4f7a-9635-b18118ccdee9"
      },
      "source": [
        "sns.heatmap(stock.isnull(), cmap=\"Blues\", cbar=False)"
      ],
      "execution_count": null,
      "outputs": [
        {
          "output_type": "execute_result",
          "data": {
            "text/plain": [
              "<matplotlib.axes._subplots.AxesSubplot at 0x7f252b9040d0>"
            ]
          },
          "metadata": {},
          "execution_count": 8
        },
        {
          "output_type": "display_data",
          "data": {
            "image/png": "[encoded data removed]",
            "text/plain": [
              "<Figure size 432x288 with 1 Axes>"
            ]
          },
          "metadata": {
            "needs_background": "light"
          }
        }
      ]
    },
    {
      "cell_type": "markdown",
      "metadata": {
        "id": "8AigBCEiD_P_"
      },
      "source": [
        "Check the missing values in the dataset."
      ]
    },
    {
      "cell_type": "code",
      "metadata": {
        "colab": {
          "base_uri": "https://localhost:8080/"
        },
        "id": "cj1O8wqmD9fu",
        "outputId": "919043a1-aa98-46d9-96be-cd129d43f1c7"
      },
      "source": [
        "print('Records:\\t', len(stock))\n",
        "missing = stock.isnull().sum()\n",
        "print(missing.sort_values(ascending=False))"
      ],
      "execution_count": null,
      "outputs": [
        {
          "output_type": "stream",
          "name": "stdout",
          "text": [
            "Records:\t 2516\n",
            "AAPL     0\n",
            "AMZN     0\n",
            "ADBE     0\n",
            "INTC     0\n",
            "IBM      0\n",
            "MSFT     0\n",
            "GOOGL    0\n",
            "HPQ      0\n",
            "Day      0\n",
            "dtype: int64\n"
          ]
        }
      ]
    },
    {
      "cell_type": "markdown",
      "metadata": {
        "id": "bzoVJQBJEpiN"
      },
      "source": [
        "The selected predictors are date,and all stocks, column 'day' is not a time-series data and it is not useful for prediction."
      ]
    },
    {
      "cell_type": "code",
      "metadata": {
        "id": "o4V00sduEUcE"
      },
      "source": [
        "stock=stock.drop(['Day'],axis=1)"
      ],
      "execution_count": null,
      "outputs": []
    },
    {
      "cell_type": "markdown",
      "metadata": {
        "id": "afzjwf-AYzha"
      },
      "source": [
        "Plot the time series data of the 8 stocks."
      ]
    },
    {
      "cell_type": "code",
      "metadata": {
        "id": "E0YyJJTorQIV",
        "colab": {
          "base_uri": "https://localhost:8080/",
          "height": 384
        },
        "outputId": "d641c84b-c699-4015-9f32-ba440c7d54e5"
      },
      "source": [
        "stock.plot(figsize=(12,6))"
      ],
      "execution_count": null,
      "outputs": [
        {
          "output_type": "execute_result",
          "data": {
            "text/plain": [
              "<matplotlib.axes._subplots.AxesSubplot at 0x7f251c40dc10>"
            ]
          },
          "metadata": {},
          "execution_count": 14
        },
        {
          "output_type": "display_data",
          "data": {
            "image/png": "[encoded data removed]",
            "text/plain": [
              "<Figure size 864x432 with 1 Axes>"
            ]
          },
          "metadata": {
            "needs_background": "light"
          }
        }
      ]
    },
    {
      "cell_type": "markdown",
      "metadata": {
        "id": "u9VREgPrmMM6"
      },
      "source": [
        "*Split the data (e.g 0.7/0.3) and prepare the data for training and testing. Note that we will try to make prediction two days ahead (hint: shift the targeted variables two days backward to use as label). Clear indicates which variables are used as predictors in your code and explanation.*"
      ]
    },
    {
      "cell_type": "code",
      "metadata": {
        "id": "nIa0dM6qvLA_"
      },
      "source": [
        "#define our intested stock is AAPL\n",
        "target_meas = stock['AAPL']\n",
        "horizon = 2\n",
        "#shift the targeted variables two days backward \n",
        "df_targets = target_meas.shift(-horizon)"
      ],
      "execution_count": null,
      "outputs": []
    },
    {
      "cell_type": "code",
      "metadata": {
        "colab": {
          "base_uri": "https://localhost:8080/"
        },
        "id": "gVfTzWgYJoII",
        "outputId": "a3e14514-3353-43ce-b89c-df8a26611929"
      },
      "source": [
        "target_meas"
      ],
      "execution_count": null,
      "outputs": [
        {
          "output_type": "execute_result",
          "data": {
            "text/plain": [
              "Date\n",
              "2010-01-04     30.572857\n",
              "2010-01-05     30.625713\n",
              "2010-01-06     30.138571\n",
              "2010-01-07     30.082857\n",
              "2010-01-08     30.282858\n",
              "                 ...    \n",
              "2019-12-24    284.269989\n",
              "2019-12-26    289.910004\n",
              "2019-12-27    289.799988\n",
              "2019-12-30    291.519989\n",
              "2019-12-31    293.649994\n",
              "Name: AAPL, Length: 2516, dtype: float64"
            ]
          },
          "metadata": {},
          "execution_count": 61
        }
      ]
    },
    {
      "cell_type": "markdown",
      "metadata": {
        "id": "F3aaEmKAJtnb"
      },
      "source": [
        "The output clearly shows that data is shifted 2 day backwards."
      ]
    },
    {
      "cell_type": "code",
      "metadata": {
        "colab": {
          "base_uri": "https://localhost:8080/"
        },
        "id": "0OsmwwF5E-Cy",
        "outputId": "83d210bf-53e5-4ec4-8072-f8775198435f"
      },
      "source": [
        "df_targets"
      ],
      "execution_count": null,
      "outputs": [
        {
          "output_type": "execute_result",
          "data": {
            "text/plain": [
              "Date\n",
              "2010-01-04     30.138571\n",
              "2010-01-05     30.082857\n",
              "2010-01-06     30.282858\n",
              "2010-01-07     30.015715\n",
              "2010-01-08     29.674286\n",
              "                 ...    \n",
              "2019-12-24    289.799988\n",
              "2019-12-26    291.519989\n",
              "2019-12-27    293.649994\n",
              "2019-12-30           NaN\n",
              "2019-12-31           NaN\n",
              "Name: AAPL, Length: 2516, dtype: float64"
            ]
          },
          "metadata": {},
          "execution_count": 59
        }
      ]
    },
    {
      "cell_type": "code",
      "metadata": {
        "id": "RcUiln6aF3jI"
      },
      "source": [
        "# Correct predictors x and targets/labels y for the horizon shift\n",
        "x_data = stock.values[0:-horizon]\n",
        "y_data = df_targets.values[:-horizon]"
      ],
      "execution_count": null,
      "outputs": []
    },
    {
      "cell_type": "code",
      "metadata": {
        "id": "OxTWaXmvGfvK"
      },
      "source": [
        "x_train = x_data[0:num_train]\n",
        "x_test = x_data[num_train:]\n",
        "y_train = y_data[0:num_train]\n",
        "y_test = y_data[num_train:]"
      ],
      "execution_count": null,
      "outputs": []
    },
    {
      "cell_type": "markdown",
      "metadata": {
        "id": "Jc7BDWQIGun4"
      },
      "source": [
        "Split the data (0.7/0.3) "
      ]
    },
    {
      "cell_type": "code",
      "metadata": {
        "colab": {
          "base_uri": "https://localhost:8080/"
        },
        "id": "M8yVvdQTGVou",
        "outputId": "d5615ed3-7b22-41e1-dfb6-ca050f5a1117"
      },
      "source": [
        "# Calculate training and testing partition sizes\n",
        "num_data = len(x_data)\n",
        "train_split = 0.7\n",
        "num_train = int(train_split * num_data)\n",
        "num_test = num_data - num_train\n",
        "\n",
        "\n",
        "print(\"Original x shape:\", x_data.shape, \", New x shape:\", x_train.shape, x_test.shape)\n",
        "print(\"Original y shape:\", y_data.shape, \", New y shape:\", y_train.shape, y_test.shape)"
      ],
      "execution_count": null,
      "outputs": [
        {
          "output_type": "stream",
          "name": "stdout",
          "text": [
            "Original x shape: (2514, 8) , New x shape: (1759, 8) (755, 8)\n",
            "Original y shape: (2514,) , New y shape: (1759,) (755,)\n"
          ]
        }
      ]
    },
    {
      "cell_type": "markdown",
      "metadata": {
        "id": "enhBse9VH3qy"
      },
      "source": [
        "Normalize all variables used as predictors"
      ]
    },
    {
      "cell_type": "code",
      "metadata": {
        "colab": {
          "base_uri": "https://localhost:8080/"
        },
        "id": "S5HakNLXGqrJ",
        "outputId": "04dcd940-1f1b-4ac3-93a8-7119c454fc73"
      },
      "source": [
        "print(\"Before train x scaling - Min:\", np.min(x_train), \", Max:\", np.max(x_train))\n",
        "print(\"Before test x scaling - Min:\", np.min(x_test), \", Max:\", np.max(x_test))\n",
        "x_scaler = MinMaxScaler(feature_range=(0, 1), copy=True)\n",
        "x_train_scaled = x_scaler.fit_transform(x_train).clip(0, 1)\n",
        "x_test_scaled = x_scaler.transform(x_test).clip(0, 1)\n",
        "print(\"After train x scaling - Min:\", np.min(x_train_scaled), \", Max:\", np.max(x_train_scaled))\n",
        "print(\"After test x scaling - Min:\", np.min(x_test_scaled), \", Max:\", np.max(x_test_scaled))"
      ],
      "execution_count": null,
      "outputs": [
        {
          "output_type": "stream",
          "name": "stdout",
          "text": [
            "Before train x scaling - Min: 5.317893028259277 , Max: 844.3599853515625\n",
            "Before test x scaling - Min: 14.579999923706055 , Max: 2039.510009765625\n",
            "After train x scaling - Min: 0.0 , Max: 1.0\n",
            "After test x scaling - Min: 0.0 , Max: 1.0\n"
          ]
        }
      ]
    },
    {
      "cell_type": "code",
      "metadata": {
        "id": "A5qmmrM-W3i5"
      },
      "source": [
        "y_data = np.reshape(y_data, (-1, 1))"
      ],
      "execution_count": null,
      "outputs": []
    },
    {
      "cell_type": "code",
      "metadata": {
        "id": "VlzgAkWfXw2T"
      },
      "source": [
        "y_train = y_data[0:num_train]\n",
        "y_test = y_data[num_train:]\n"
      ],
      "execution_count": null,
      "outputs": []
    },
    {
      "cell_type": "code",
      "metadata": {
        "colab": {
          "base_uri": "https://localhost:8080/"
        },
        "id": "FaA3zoldTM8J",
        "outputId": "631e5af1-c36d-4830-a8d6-99c6ae8861d2"
      },
      "source": [
        "print(\"Before train y scaling - Min:\", np.min(y_train), \", Max:\", np.max(y_train))\n",
        "print(\"Before test y scaling - Min:\", np.min(y_test), \", Max:\", np.max(y_test))\n",
        "# y_scaler = MinMaxScaler(feature_range=(0, 1), copy=True)\n",
        "y_scaler = x_scaler\n",
        "y_train_scaled = y_scaler.fit_transform(y_train)\n",
        "y_test_scaled = y_scaler.transform(y_test)\n",
        "print(\"After train y scaling - Min:\", np.min(y_train_scaled), \", Max:\", np.max(y_train_scaled))\n",
        "print(\"After test y scaling - Min:\", np.min(y_test_scaled), \", Max:\", np.max(y_test_scaled))"
      ],
      "execution_count": null,
      "outputs": [
        {
          "output_type": "stream",
          "name": "stdout",
          "text": [
            "Before train y scaling - Min: 27.43571472167969 , Max: 133.0\n",
            "Before test y scaling - Min: 115.81999969482422 , Max: 293.6499938964844\n",
            "After train y scaling - Min: 0.0 , Max: 1.0\n",
            "After test y scaling - Min: 0.8372555617661721 , Max: 2.521821451951582\n"
          ]
        }
      ]
    },
    {
      "cell_type": "code",
      "metadata": {
        "id": "xV9M6F2VMI2c"
      },
      "source": [
        "#Process 30 sequences before updating the model.\n",
        "batch_size = 20\n",
        "#The length of each time series sequences/input dimenions.\n",
        "sequence_length = 50"
      ],
      "execution_count": null,
      "outputs": []
    },
    {
      "cell_type": "code",
      "metadata": {
        "id": "H0HkzYlCMON3"
      },
      "source": [
        "generator = batch_generator(batch_size=batch_size, sequence_length=sequence_length)"
      ],
      "execution_count": null,
      "outputs": []
    },
    {
      "cell_type": "code",
      "metadata": {
        "id": "cmBovMCYMV2Q"
      },
      "source": [
        "num_x_events = x_data.shape[1]\n",
        "num_y_events = y_data.shape[1]"
      ],
      "execution_count": null,
      "outputs": []
    },
    {
      "cell_type": "code",
      "metadata": {
        "colab": {
          "base_uri": "https://localhost:8080/"
        },
        "id": "cttwg297MQrc",
        "outputId": "e5234d31-af4a-4487-b244-9101fc980343"
      },
      "source": [
        "x_batch, y_batch = next(generator)\n",
        "print(x_batch.shape)\n",
        "print(y_batch.shape)"
      ],
      "execution_count": null,
      "outputs": [
        {
          "output_type": "stream",
          "name": "stdout",
          "text": [
            "(20, 50, 8)\n",
            "(20, 50, 1)\n"
          ]
        }
      ]
    },
    {
      "cell_type": "code",
      "metadata": {
        "colab": {
          "base_uri": "https://localhost:8080/",
          "height": 312
        },
        "id": "Y023c8azYjfx",
        "outputId": "fec92562-c885-47df-f4d1-1d3d243294aa"
      },
      "source": [
        "batch = 0  # Some sequence in the batch\n",
        "event = 0  # Some event from input-events\n",
        "x_seq = x_batch[batch, :, event]\n",
        "y_seq = y_batch[batch, :, event]\n",
        "plt.plot(x_seq)\n",
        "plt.plot(y_seq)\n",
        "plt.title('Time Series Batch: Training (past) vs Labels (future)')\n",
        "plt.ylabel('Measurement')\n",
        "plt.xlabel('Time')\n",
        "plt.legend(['Training (x)', 'Labels (y)'], loc='upper left')"
      ],
      "execution_count": null,
      "outputs": [
        {
          "output_type": "execute_result",
          "data": {
            "text/plain": [
              "<matplotlib.legend.Legend at 0x7f24d851f190>"
            ]
          },
          "metadata": {},
          "execution_count": 161
        },
        {
          "output_type": "display_data",
          "data": {
            "image/png": "[encoded data removed]",
            "text/plain": [
              "<Figure size 432x288 with 1 Axes>"
            ]
          },
          "metadata": {
            "needs_background": "light"
          }
        }
      ]
    },
    {
      "cell_type": "markdown",
      "metadata": {
        "id": "lY3RPGcKYzhc"
      },
      "source": [
        "<a id = \"cell_model\"></a>\n",
        "## 3. Model Construction"
      ]
    },
    {
      "cell_type": "code",
      "metadata": {
        "id": "YRSO49oTYzhc"
      },
      "source": [
        "validation_data = (np.expand_dims(x_test_scaled, axis=0),\n",
        "                   np.expand_dims(y_test_scaled, axis=0))"
      ],
      "execution_count": null,
      "outputs": []
    },
    {
      "cell_type": "code",
      "metadata": {
        "id": "LuGjSuX1Mvmy"
      },
      "source": [
        "epochs = 100\n",
        "steps_per_epoch = 60\n",
        "warmup_steps = 7 # For custom loss function"
      ],
      "execution_count": null,
      "outputs": []
    },
    {
      "cell_type": "code",
      "metadata": {
        "id": "8r822VHiZiqG"
      },
      "source": [
        "#define model\n",
        "def rnn_model(num_x_events, num_y_events):\n",
        "    model = Sequential()\n",
        "    model.add(GRU(units=512,\n",
        "                  return_sequences=True,\n",
        "                  input_shape=(None, num_x_events,)))\n",
        "    model.add(BatchNormalization())\n",
        "    model.add(Dense(num_y_events, activation='relu'))\n",
        "    model.summary()\n",
        "    return(model)"
      ],
      "execution_count": null,
      "outputs": []
    },
    {
      "cell_type": "code",
      "metadata": {
        "id": "nmH9tIlYaaze"
      },
      "source": [
        "path_checkpoint = './gru_checkpoints/'\n",
        "\n",
        "callback_checkpoint = ModelCheckpoint(filepath=path_checkpoint,\n",
        "        monitor='val_loss',\n",
        "        verbose=1,\n",
        "        save_weights_only=True,\n",
        "        save_best_only=True)\n",
        "\n",
        "callback_early_stopping = EarlyStopping(monitor='val_loss',\n",
        "        patience=10, verbose=1)\n",
        "\n",
        "callback_tensorboard = TensorBoard(log_dir='./gru_logs/',\n",
        "        histogram_freq=0,\n",
        "        write_graph=False)\n",
        "\n",
        "callback_reduce_lr = ReduceLROnPlateau(monitor='val_loss',\n",
        "        factor=0.3,\n",
        "        min_lr=1e-4,\n",
        "        patience=5,\n",
        "        min_delta = 1e-3,\n",
        "        verbose=1)\n",
        "\n",
        "keras_callbacks = [\n",
        "        callback_early_stopping,\n",
        "        #callback_tensorboard,\n",
        "        callback_reduce_lr,\n",
        "        callback_checkpoint\n",
        "]"
      ],
      "execution_count": null,
      "outputs": []
    },
    {
      "cell_type": "code",
      "metadata": {
        "colab": {
          "base_uri": "https://localhost:8080/"
        },
        "id": "tc8kTryiNIhV",
        "outputId": "cf5efee2-3dfb-4d9b-ccf6-327dedda2927"
      },
      "source": [
        "opt_nadam = Nadam(lr=0.001, beta_1=0.7, beta_2=0.95, epsilon=1e-07)\n",
        "rnn_hist = start_hist()\n",
        "\n",
        "model = rnn_model(num_x_events, num_y_events)\n",
        "model.compile(loss=loss_mse_warmup, optimizer=opt_nadam, metrics=[metrics.mae])"
      ],
      "execution_count": null,
      "outputs": [
        {
          "output_type": "stream",
          "name": "stderr",
          "text": [
            "/usr/local/lib/python3.7/dist-packages/keras/optimizer_v2/optimizer_v2.py:356: UserWarning: The `lr` argument is deprecated, use `learning_rate` instead.\n",
            "  \"The `lr` argument is deprecated, use `learning_rate` instead.\")\n"
          ]
        },
        {
          "output_type": "stream",
          "name": "stdout",
          "text": [
            "Model: \"sequential\"\n",
            "_________________________________________________________________\n",
            "Layer (type)                 Output Shape              Param #   \n",
            "=================================================================\n",
            "gru (GRU)                    (None, None, 512)         801792    \n",
            "_________________________________________________________________\n",
            "batch_normalization (BatchNo (None, None, 512)         2048      \n",
            "_________________________________________________________________\n",
            "dense (Dense)                (None, None, 1)           513       \n",
            "=================================================================\n",
            "Total params: 804,353\n",
            "Trainable params: 803,329\n",
            "Non-trainable params: 1,024\n",
            "_________________________________________________________________\n"
          ]
        }
      ]
    },
    {
      "cell_type": "markdown",
      "metadata": {
        "id": "B0h_o6nnufjg"
      },
      "source": [
        "<a id = \"cell_execution\"></a>\n",
        "## 4. Model Execution"
      ]
    },
    {
      "cell_type": "code",
      "metadata": {
        "colab": {
          "base_uri": "https://localhost:8080/"
        },
        "id": "CKGmb3U8bYRk",
        "outputId": "b1ae6b7f-5ae3-4398-b8f8-302fa1a887bf"
      },
      "source": [
        "%%time\n",
        "perform_indics = model.fit(x=generator,\n",
        "        epochs=epochs,\n",
        "        steps_per_epoch=steps_per_epoch,\n",
        "        validation_data=validation_data,\n",
        "        callbacks=keras_callbacks,\n",
        "        verbose=2\n",
        "        )\n",
        "\n",
        "# Add performance history\n",
        "rnn_hist = collect_hist(rnn_hist, perform_indics.history)"
      ],
      "execution_count": null,
      "outputs": [
        {
          "output_type": "stream",
          "name": "stdout",
          "text": [
            "Epoch 1/100\n",
            "60/60 - 17s - loss: 0.3161 - mean_absolute_error: 0.3652 - val_loss: 2.2806 - val_mean_absolute_error: 1.4695\n",
            "\n",
            "Epoch 00001: val_loss improved from inf to 2.28063, saving model to ./gru_checkpoints/\n",
            "Epoch 2/100\n",
            "60/60 - 13s - loss: 0.2148 - mean_absolute_error: 0.3728 - val_loss: 2.2806 - val_mean_absolute_error: 1.4695\n",
            "\n",
            "Epoch 00002: val_loss did not improve from 2.28063\n",
            "Epoch 3/100\n",
            "60/60 - 13s - loss: 0.1418 - mean_absolute_error: 0.3040 - val_loss: 1.3882 - val_mean_absolute_error: 1.1264\n",
            "\n",
            "Epoch 00003: val_loss improved from 2.28063 to 1.38817, saving model to ./gru_checkpoints/\n",
            "Epoch 4/100\n",
            "60/60 - 13s - loss: 0.0749 - mean_absolute_error: 0.2355 - val_loss: 0.9184 - val_mean_absolute_error: 0.8968\n",
            "\n",
            "Epoch 00004: val_loss improved from 1.38817 to 0.91841, saving model to ./gru_checkpoints/\n",
            "Epoch 5/100\n",
            "60/60 - 13s - loss: 0.0546 - mean_absolute_error: 0.2014 - val_loss: 1.2047 - val_mean_absolute_error: 1.0415\n",
            "\n",
            "Epoch 00005: val_loss did not improve from 0.91841\n",
            "Epoch 6/100\n",
            "60/60 - 13s - loss: 0.0399 - mean_absolute_error: 0.1728 - val_loss: 0.5081 - val_mean_absolute_error: 0.6347\n",
            "\n",
            "Epoch 00006: val_loss improved from 0.91841 to 0.50811, saving model to ./gru_checkpoints/\n",
            "Epoch 7/100\n",
            "60/60 - 13s - loss: 0.0311 - mean_absolute_error: 0.1559 - val_loss: 1.2917 - val_mean_absolute_error: 1.0808\n",
            "\n",
            "Epoch 00007: val_loss did not improve from 0.50811\n",
            "Epoch 8/100\n",
            "60/60 - 13s - loss: 0.0271 - mean_absolute_error: 0.1505 - val_loss: 1.3099 - val_mean_absolute_error: 1.0906\n",
            "\n",
            "Epoch 00008: val_loss did not improve from 0.50811\n",
            "Epoch 9/100\n",
            "60/60 - 13s - loss: 0.0231 - mean_absolute_error: 0.1398 - val_loss: 1.0090 - val_mean_absolute_error: 0.9491\n",
            "\n",
            "Epoch 00009: val_loss did not improve from 0.50811\n",
            "Epoch 10/100\n",
            "60/60 - 13s - loss: 0.0171 - mean_absolute_error: 0.1202 - val_loss: 0.2027 - val_mean_absolute_error: 0.3438\n",
            "\n",
            "Epoch 00010: val_loss improved from 0.50811 to 0.20273, saving model to ./gru_checkpoints/\n",
            "Epoch 11/100\n",
            "60/60 - 13s - loss: 0.0160 - mean_absolute_error: 0.1201 - val_loss: 0.9422 - val_mean_absolute_error: 0.9146\n",
            "\n",
            "Epoch 00011: val_loss did not improve from 0.20273\n",
            "Epoch 12/100\n",
            "60/60 - 13s - loss: 0.0181 - mean_absolute_error: 0.1282 - val_loss: 0.2896 - val_mean_absolute_error: 0.4384\n",
            "\n",
            "Epoch 00012: val_loss did not improve from 0.20273\n",
            "Epoch 13/100\n",
            "60/60 - 13s - loss: 0.0163 - mean_absolute_error: 0.1189 - val_loss: 0.4704 - val_mean_absolute_error: 0.6030\n",
            "\n",
            "Epoch 00013: val_loss did not improve from 0.20273\n",
            "Epoch 14/100\n",
            "60/60 - 13s - loss: 0.0097 - mean_absolute_error: 0.1098 - val_loss: 0.0978 - val_mean_absolute_error: 0.2510\n",
            "\n",
            "Epoch 00014: val_loss improved from 0.20273 to 0.09780, saving model to ./gru_checkpoints/\n",
            "Epoch 15/100\n",
            "60/60 - 13s - loss: 0.0159 - mean_absolute_error: 0.1199 - val_loss: 0.7857 - val_mean_absolute_error: 0.8260\n",
            "\n",
            "Epoch 00015: val_loss did not improve from 0.09780\n",
            "Epoch 16/100\n",
            "60/60 - 13s - loss: 0.0081 - mean_absolute_error: 0.1063 - val_loss: 0.7064 - val_mean_absolute_error: 0.7788\n",
            "\n",
            "Epoch 00016: val_loss did not improve from 0.09780\n",
            "Epoch 17/100\n",
            "60/60 - 13s - loss: 0.0116 - mean_absolute_error: 0.1128 - val_loss: 0.8428 - val_mean_absolute_error: 0.8629\n",
            "\n",
            "Epoch 00017: val_loss did not improve from 0.09780\n",
            "Epoch 18/100\n",
            "60/60 - 13s - loss: 0.0090 - mean_absolute_error: 0.1139 - val_loss: 0.1034 - val_mean_absolute_error: 0.2514\n",
            "\n",
            "Epoch 00018: val_loss did not improve from 0.09780\n",
            "Epoch 19/100\n",
            "60/60 - 13s - loss: 0.0082 - mean_absolute_error: 0.1109 - val_loss: 0.2987 - val_mean_absolute_error: 0.4470\n",
            "\n",
            "Epoch 00019: ReduceLROnPlateau reducing learning rate to 0.0003000000142492354.\n",
            "\n",
            "Epoch 00019: val_loss did not improve from 0.09780\n",
            "Epoch 20/100\n",
            "60/60 - 13s - loss: 0.0026 - mean_absolute_error: 0.0858 - val_loss: 0.4424 - val_mean_absolute_error: 0.5879\n",
            "\n",
            "Epoch 00020: val_loss did not improve from 0.09780\n",
            "Epoch 21/100\n",
            "60/60 - 13s - loss: 0.0027 - mean_absolute_error: 0.0866 - val_loss: 0.3302 - val_mean_absolute_error: 0.4810\n",
            "\n",
            "Epoch 00021: val_loss did not improve from 0.09780\n",
            "Epoch 22/100\n",
            "60/60 - 13s - loss: 0.0029 - mean_absolute_error: 0.0886 - val_loss: 0.6480 - val_mean_absolute_error: 0.7409\n",
            "\n",
            "Epoch 00022: val_loss did not improve from 0.09780\n",
            "Epoch 23/100\n",
            "60/60 - 13s - loss: 0.0025 - mean_absolute_error: 0.0871 - val_loss: 0.3913 - val_mean_absolute_error: 0.5411\n",
            "\n",
            "Epoch 00023: val_loss did not improve from 0.09780\n",
            "Epoch 24/100\n",
            "60/60 - 13s - loss: 0.0026 - mean_absolute_error: 0.0895 - val_loss: 0.4271 - val_mean_absolute_error: 0.5749\n",
            "\n",
            "Epoch 00024: ReduceLROnPlateau reducing learning rate to 0.0001.\n",
            "\n",
            "Epoch 00024: val_loss did not improve from 0.09780\n",
            "Epoch 00024: early stopping\n",
            "CPU times: user 9min 41s, sys: 23.3 s, total: 10min 4s\n",
            "Wall time: 5min 21s\n"
          ]
        }
      ]
    },
    {
      "cell_type": "code",
      "metadata": {
        "colab": {
          "base_uri": "https://localhost:8080/",
          "height": 1000
        },
        "id": "fm2QckuidQQl",
        "outputId": "4abd8c90-c701-4267-f90b-734bd404e7ad"
      },
      "source": [
        "plot_hist(rnn_hist, xsize=10, ysize=8)"
      ],
      "execution_count": null,
      "outputs": [
        {
          "output_type": "display_data",
          "data": {
            "image/png": "[encoded data removed]",
            "text/plain": [
              "<Figure size 720x576 with 1 Axes>"
            ]
          },
          "metadata": {
            "needs_background": "light"
          }
        },
        {
          "output_type": "display_data",
          "data": {
            "image/png": "[encoded data removed]",
            "text/plain": [
              "<Figure size 720x576 with 1 Axes>"
            ]
          },
          "metadata": {
            "needs_background": "light"
          }
        }
      ]
    },
    {
      "cell_type": "markdown",
      "metadata": {
        "id": "P7C3JV0hgGIX"
      },
      "source": [
        "As shown in history plot, there are significant difference between training and test for both 'loss' and 'MAE'."
      ]
    },
    {
      "cell_type": "code",
      "metadata": {
        "id": "0KtrbI4rdnZP"
      },
      "source": [
        "try:\n",
        "    model.load_weights(path_checkpoint)\n",
        "except Exception as error:\n",
        "    print(\"Error trying to load checkpoint.\")\n",
        "    print(error)"
      ],
      "execution_count": null,
      "outputs": []
    },
    {
      "cell_type": "markdown",
      "metadata": {
        "id": "BuVxUna1dx6i"
      },
      "source": [
        "Training performance"
      ]
    },
    {
      "cell_type": "code",
      "metadata": {
        "colab": {
          "base_uri": "https://localhost:8080/"
        },
        "id": "eIoLOAxHdoSd",
        "outputId": "93fe0de9-1c54-409d-c31d-f0d3506e7bd8"
      },
      "source": [
        "result = model.evaluate(x=np.expand_dims(x_train_scaled, axis=0),\n",
        "                        y=np.expand_dims(y_train_scaled, axis=0))\n",
        "# We have several metrics so we want to show their names\n",
        "print()\n",
        "for res, metric in zip(result, model.metrics_names):\n",
        "    print(\"{0}: {1:.5f}\".format(metric, res))"
      ],
      "execution_count": null,
      "outputs": [
        {
          "output_type": "stream",
          "name": "stdout",
          "text": [
            "1/1 [==============================] - 1s 787ms/step - loss: 0.0538 - mean_absolute_error: 0.1862\n",
            "\n",
            "loss: 0.05377\n",
            "mean_absolute_error: 0.18616\n"
          ]
        }
      ]
    },
    {
      "cell_type": "markdown",
      "metadata": {
        "id": "PT6VbjrjdvSc"
      },
      "source": [
        "Test performance"
      ]
    },
    {
      "cell_type": "code",
      "metadata": {
        "colab": {
          "base_uri": "https://localhost:8080/"
        },
        "id": "RxWwBDYmdt9d",
        "outputId": "95b15734-7c8c-4697-8f8d-c16de4f545ff"
      },
      "source": [
        "result = model.evaluate(x=np.expand_dims(x_test_scaled, axis=0),\n",
        "                        y=np.expand_dims(y_test_scaled, axis=0))\n",
        "# We have several metrics so we want to show their names\n",
        "print()\n",
        "for res, metric in zip(result, model.metrics_names):\n",
        "    print(\"{0}: {1:.5f}\".format(metric, res))"
      ],
      "execution_count": null,
      "outputs": [
        {
          "output_type": "stream",
          "name": "stdout",
          "text": [
            "1/1 [==============================] - 0s 186ms/step - loss: 0.0978 - mean_absolute_error: 0.2510\n",
            "\n",
            "loss: 0.09780\n",
            "mean_absolute_error: 0.25095\n"
          ]
        }
      ]
    },
    {
      "cell_type": "markdown",
      "metadata": {
        "id": "tLBXWEhpYzhg"
      },
      "source": [
        "<a id = \"cell_report\"></a>\n",
        "## 5. Prediction"
      ]
    },
    {
      "cell_type": "markdown",
      "metadata": {
        "id": "ERYNK0JhoOqY"
      },
      "source": [
        "Generate prediction: the predicted and true output time series of the AAPL price"
      ]
    },
    {
      "cell_type": "code",
      "metadata": {
        "id": "KBFC4Gco3N7S"
      },
      "source": [
        "# Plot the predicted and true output-events.\n",
        "\n",
        "def plot_comparison(start_idx, length=100, train=True, xlim=None, ylim=None):\n",
        "    \"\"\"\n",
        "    :param start_idx: Start-index for the time-series.\n",
        "    :param length: Sequence-length to process and plot.\n",
        "    :param train: Boolean whether to use training- or test-set.\n",
        "    \"\"\"\n",
        "    \n",
        "    if train:\n",
        "        # Use training-data.\n",
        "        x = x_train_scaled\n",
        "        y_true = y_train\n",
        "    else:\n",
        "        # Use test-data.\n",
        "        x = x_test_scaled\n",
        "        y_true = y_test\n",
        "    \n",
        "    # End-index for the sequences.\n",
        "    end_idx = start_idx + length\n",
        "    \n",
        "    # Select the sequences from the given start-index and\n",
        "    # of the given length.\n",
        "    x = x[start_idx:end_idx]\n",
        "    y_true = y_true[start_idx:end_idx]\n",
        "    \n",
        "    # Input-events for the model.\n",
        "    x = np.expand_dims(x, axis=0)\n",
        "\n",
        "    # Use the model to predict the output-events.\n",
        "    y_pred = model.predict(x)\n",
        "    \n",
        "    # The output of the model is between 0 and 1.\n",
        "    # Do an inverse map to get it back to the scale\n",
        "    # of the original data-set.\n",
        "    y_pred_rescaled = y_scaler.inverse_transform(y_pred[0])\n",
        "    \n",
        "    # For each output-event.\n",
        "    for event in range(len(target_meas)):\n",
        "        # Get the output-event predicted by the model.\n",
        "        event_pred = y_pred_rescaled[:, event]\n",
        "        \n",
        "        # Get the true output-event from the data-set.\n",
        "        event_true = y_true[:, event]\n",
        "\n",
        "        # Make the plotting-canvas bigger.\n",
        "        plt.figure(figsize=(15,5))\n",
        "        \n",
        "        # Plot and compare the two events.\n",
        "        plt.plot(event_true, label='true')\n",
        "        plt.plot(event_pred, label='pred')\n",
        "        \n",
        "        # Plot grey box for warmup-period.\n",
        "        p = plt.axvspan(0, warmup_steps, facecolor='black', alpha=0.15)\n",
        "        \n",
        "        # Plot labels etc.\n",
        "        if (xlim): plt.xlim(xlim)\n",
        "        if (ylim): plt.ylim(ylim)\n",
        "        plt.ylabel(target_meas[event])\n",
        "        plt.legend()\n",
        "        plt.show()"
      ],
      "execution_count": null,
      "outputs": []
    },
    {
      "cell_type": "code",
      "metadata": {
        "colab": {
          "base_uri": "https://localhost:8080/",
          "height": 590
        },
        "id": "Ttvl_JrLeN4J",
        "outputId": "0095c28d-624d-422f-fcb4-84fa0b454c44"
      },
      "source": [
        "plot_comparison(start_idx=300, length=300, train=True, ylim=(0,120))"
      ],
      "execution_count": null,
      "outputs": [
        {
          "output_type": "display_data",
          "data": {
            "image/png": "[encoded data removed]",
            "text/plain": [
              "<Figure size 1080x360 with 1 Axes>"
            ]
          },
          "metadata": {
            "needs_background": "light"
          }
        },
        {
          "output_type": "error",
          "ename": "IndexError",
          "evalue": "ignored",
          "traceback": [
            "\u001b[0;31m---------------------------------------------------------------------------\u001b[0m",
            "\u001b[0;31mIndexError\u001b[0m                                Traceback (most recent call last)",
            "\u001b[0;32m<ipython-input-192-208a49266766>\u001b[0m in \u001b[0;36m<module>\u001b[0;34m()\u001b[0m\n\u001b[0;32m----> 1\u001b[0;31m \u001b[0mplot_comparison\u001b[0m\u001b[0;34m(\u001b[0m\u001b[0mstart_idx\u001b[0m\u001b[0;34m=\u001b[0m\u001b[0;36m300\u001b[0m\u001b[0;34m,\u001b[0m \u001b[0mlength\u001b[0m\u001b[0;34m=\u001b[0m\u001b[0;36m300\u001b[0m\u001b[0;34m,\u001b[0m \u001b[0mtrain\u001b[0m\u001b[0;34m=\u001b[0m\u001b[0;32mTrue\u001b[0m\u001b[0;34m,\u001b[0m \u001b[0mylim\u001b[0m\u001b[0;34m=\u001b[0m\u001b[0;34m(\u001b[0m\u001b[0;36m0\u001b[0m\u001b[0;34m,\u001b[0m\u001b[0;36m120\u001b[0m\u001b[0;34m)\u001b[0m\u001b[0;34m)\u001b[0m\u001b[0;34m\u001b[0m\u001b[0;34m\u001b[0m\u001b[0m\n\u001b[0m",
            "\u001b[0;32m<ipython-input-183-a4f9985bf8e5>\u001b[0m in \u001b[0;36mplot_comparison\u001b[0;34m(start_idx, length, train, xlim, ylim)\u001b[0m\n\u001b[1;32m     39\u001b[0m     \u001b[0;32mfor\u001b[0m \u001b[0mevent\u001b[0m \u001b[0;32min\u001b[0m \u001b[0mrange\u001b[0m\u001b[0;34m(\u001b[0m\u001b[0mlen\u001b[0m\u001b[0;34m(\u001b[0m\u001b[0mtarget_meas\u001b[0m\u001b[0;34m)\u001b[0m\u001b[0;34m)\u001b[0m\u001b[0;34m:\u001b[0m\u001b[0;34m\u001b[0m\u001b[0;34m\u001b[0m\u001b[0m\n\u001b[1;32m     40\u001b[0m         \u001b[0;31m# Get the output-event predicted by the model.\u001b[0m\u001b[0;34m\u001b[0m\u001b[0;34m\u001b[0m\u001b[0;34m\u001b[0m\u001b[0m\n\u001b[0;32m---> 41\u001b[0;31m         \u001b[0mevent_pred\u001b[0m \u001b[0;34m=\u001b[0m \u001b[0my_pred_rescaled\u001b[0m\u001b[0;34m[\u001b[0m\u001b[0;34m:\u001b[0m\u001b[0;34m,\u001b[0m \u001b[0mevent\u001b[0m\u001b[0;34m]\u001b[0m\u001b[0;34m\u001b[0m\u001b[0;34m\u001b[0m\u001b[0m\n\u001b[0m\u001b[1;32m     42\u001b[0m \u001b[0;34m\u001b[0m\u001b[0m\n\u001b[1;32m     43\u001b[0m         \u001b[0;31m# Get the true output-event from the data-set.\u001b[0m\u001b[0;34m\u001b[0m\u001b[0;34m\u001b[0m\u001b[0;34m\u001b[0m\u001b[0m\n",
            "\u001b[0;31mIndexError\u001b[0m: index 1 is out of bounds for axis 1 with size 1"
          ]
        }
      ]
    },
    {
      "cell_type": "markdown",
      "metadata": {
        "id": "V7OCfPeCe790"
      },
      "source": [
        "The true and predicted results are shown below, predicted price is significantly higher than true price, the accuracy of the model can be improved by trying different parameter for the model, other types of RNN models can also be considered, e.g. LSTM. "
      ]
    },
    {
      "cell_type": "markdown",
      "metadata": {
        "id": "kWZIUDAzvSEq"
      },
      "source": [
        "The traditional machine learning algorithms usually use simple structure, for example, decision tree and linear regression. We also need to select the features manually of input for traditional machine learning to do the classification and give the outputs. However, deep learning is much more complex and contains multiple layers to process data. it can automatically extract features and make predictions. Additionally, deep learning algorithm can learn error of models, which can help us to improve the performance of the models. We learnt MultiLayer Perceptron Network in week4, it is consisted of input layer, output layer, and hidden layer. It can also be used to solve non-linear problems, we also can adjust parameters of each layer to improve performance of model. In week5, we use CNN models to process images. Deep learning algorithm can produce better images through encoding and decoding images, we can also adjust parameters of each layer to improve model performance. In week6, RNN model is introduced to deal with time-series data. It is able to predict future based on previous data.\n",
        "In business, deep learning can be applied to improve customer experience, it can be used to understand customers’ behaviour and create recommendation system.\n",
        "It also can be applied to improve quality control for companies. It can detect defects through image recognition, which can also contribute to automatic quality control processing."
      ]
    }
  ]
}